{
  "nbformat": 4,
  "nbformat_minor": 0,
  "metadata": {
    "colab": {
      "name": "TF2.0 Stock Returns.ipynb",
      "provenance": [],
      "collapsed_sections": []
    },
    "kernelspec": {
      "name": "python3",
      "display_name": "Python 3"
    },
    "accelerator": "GPU"
  },
  "cells": [
    {
      "cell_type": "code",
      "metadata": {
        "id": "JkljvqYBN0Fa",
        "colab": {
          "base_uri": "https://localhost:8080/"
        },
        "collapsed": true,
        "outputId": "8866c1a8-adfa-4e12-9f8f-3623d25f6697"
      },
      "source": [
        "try:\n",
        "  %tensorflow_version 2.x \n",
        "except Exception:\n",
        "  pass\n",
        "\n",
        "import tensorflow as tf\n",
        "print(tf.__version__)"
      ],
      "execution_count": 1,
      "outputs": [
        {
          "output_type": "stream",
          "name": "stdout",
          "text": [
            "2.6.0\n"
          ]
        }
      ]
    },
    {
      "cell_type": "code",
      "metadata": {
        "id": "AJ1XDZAJNjNG"
      },
      "source": [
        "from tensorflow.keras.layers import Input, LSTM, GRU, SimpleRNN, Dense, GlobalMaxPool1D\n",
        "from tensorflow.keras.models import Model\n",
        "from tensorflow.keras.optimizers import SGD, Adam\n",
        "\n",
        "import numpy as np\n",
        "import pandas as pd\n",
        "import matplotlib.pyplot as plt\n",
        "from sklearn.preprocessing import StandardScaler"
      ],
      "execution_count": 2,
      "outputs": []
    },
    {
      "cell_type": "code",
      "metadata": {
        "id": "DhvsuKhcNq7t"
      },
      "source": [
        "df = pd.read_csv('https://raw.githubusercontent.com/lazyprogrammer/machine_learning_examples/master/tf2.0/sbux.csv')"
      ],
      "execution_count": 3,
      "outputs": []
    },
    {
      "cell_type": "code",
      "metadata": {
        "id": "vWSPFdncODH9",
        "colab": {
          "base_uri": "https://localhost:8080/",
          "height": 203
        },
        "outputId": "849f8186-b69b-41c8-9c65-8b0a1a6c0079"
      },
      "source": [
        "df.head()"
      ],
      "execution_count": 4,
      "outputs": [
        {
          "output_type": "execute_result",
          "data": {
            "text/html": [
              "<div>\n",
              "<style scoped>\n",
              "    .dataframe tbody tr th:only-of-type {\n",
              "        vertical-align: middle;\n",
              "    }\n",
              "\n",
              "    .dataframe tbody tr th {\n",
              "        vertical-align: top;\n",
              "    }\n",
              "\n",
              "    .dataframe thead th {\n",
              "        text-align: right;\n",
              "    }\n",
              "</style>\n",
              "<table border=\"1\" class=\"dataframe\">\n",
              "  <thead>\n",
              "    <tr style=\"text-align: right;\">\n",
              "      <th></th>\n",
              "      <th>date</th>\n",
              "      <th>open</th>\n",
              "      <th>high</th>\n",
              "      <th>low</th>\n",
              "      <th>close</th>\n",
              "      <th>volume</th>\n",
              "      <th>Name</th>\n",
              "    </tr>\n",
              "  </thead>\n",
              "  <tbody>\n",
              "    <tr>\n",
              "      <th>0</th>\n",
              "      <td>2013-02-08</td>\n",
              "      <td>27.920</td>\n",
              "      <td>28.325</td>\n",
              "      <td>27.920</td>\n",
              "      <td>28.185</td>\n",
              "      <td>7146296</td>\n",
              "      <td>SBUX</td>\n",
              "    </tr>\n",
              "    <tr>\n",
              "      <th>1</th>\n",
              "      <td>2013-02-11</td>\n",
              "      <td>28.260</td>\n",
              "      <td>28.260</td>\n",
              "      <td>27.930</td>\n",
              "      <td>28.070</td>\n",
              "      <td>5457354</td>\n",
              "      <td>SBUX</td>\n",
              "    </tr>\n",
              "    <tr>\n",
              "      <th>2</th>\n",
              "      <td>2013-02-12</td>\n",
              "      <td>28.000</td>\n",
              "      <td>28.275</td>\n",
              "      <td>27.975</td>\n",
              "      <td>28.130</td>\n",
              "      <td>8665592</td>\n",
              "      <td>SBUX</td>\n",
              "    </tr>\n",
              "    <tr>\n",
              "      <th>3</th>\n",
              "      <td>2013-02-13</td>\n",
              "      <td>28.230</td>\n",
              "      <td>28.230</td>\n",
              "      <td>27.750</td>\n",
              "      <td>27.915</td>\n",
              "      <td>7022056</td>\n",
              "      <td>SBUX</td>\n",
              "    </tr>\n",
              "    <tr>\n",
              "      <th>4</th>\n",
              "      <td>2013-02-14</td>\n",
              "      <td>27.765</td>\n",
              "      <td>27.905</td>\n",
              "      <td>27.675</td>\n",
              "      <td>27.775</td>\n",
              "      <td>8899188</td>\n",
              "      <td>SBUX</td>\n",
              "    </tr>\n",
              "  </tbody>\n",
              "</table>\n",
              "</div>"
            ],
            "text/plain": [
              "         date    open    high     low   close   volume  Name\n",
              "0  2013-02-08  27.920  28.325  27.920  28.185  7146296  SBUX\n",
              "1  2013-02-11  28.260  28.260  27.930  28.070  5457354  SBUX\n",
              "2  2013-02-12  28.000  28.275  27.975  28.130  8665592  SBUX\n",
              "3  2013-02-13  28.230  28.230  27.750  27.915  7022056  SBUX\n",
              "4  2013-02-14  27.765  27.905  27.675  27.775  8899188  SBUX"
            ]
          },
          "metadata": {},
          "execution_count": 4
        }
      ]
    },
    {
      "cell_type": "code",
      "metadata": {
        "id": "NLmweO2o-wgS",
        "colab": {
          "base_uri": "https://localhost:8080/",
          "height": 203
        },
        "outputId": "8666135c-6166-49c6-b936-c08f80cc951b"
      },
      "source": [
        "df.tail()"
      ],
      "execution_count": 5,
      "outputs": [
        {
          "output_type": "execute_result",
          "data": {
            "text/html": [
              "<div>\n",
              "<style scoped>\n",
              "    .dataframe tbody tr th:only-of-type {\n",
              "        vertical-align: middle;\n",
              "    }\n",
              "\n",
              "    .dataframe tbody tr th {\n",
              "        vertical-align: top;\n",
              "    }\n",
              "\n",
              "    .dataframe thead th {\n",
              "        text-align: right;\n",
              "    }\n",
              "</style>\n",
              "<table border=\"1\" class=\"dataframe\">\n",
              "  <thead>\n",
              "    <tr style=\"text-align: right;\">\n",
              "      <th></th>\n",
              "      <th>date</th>\n",
              "      <th>open</th>\n",
              "      <th>high</th>\n",
              "      <th>low</th>\n",
              "      <th>close</th>\n",
              "      <th>volume</th>\n",
              "      <th>Name</th>\n",
              "    </tr>\n",
              "  </thead>\n",
              "  <tbody>\n",
              "    <tr>\n",
              "      <th>1254</th>\n",
              "      <td>2018-02-01</td>\n",
              "      <td>56.280</td>\n",
              "      <td>56.42</td>\n",
              "      <td>55.89</td>\n",
              "      <td>56.00</td>\n",
              "      <td>14690146</td>\n",
              "      <td>SBUX</td>\n",
              "    </tr>\n",
              "    <tr>\n",
              "      <th>1255</th>\n",
              "      <td>2018-02-02</td>\n",
              "      <td>55.900</td>\n",
              "      <td>56.32</td>\n",
              "      <td>55.70</td>\n",
              "      <td>55.77</td>\n",
              "      <td>15358909</td>\n",
              "      <td>SBUX</td>\n",
              "    </tr>\n",
              "    <tr>\n",
              "      <th>1256</th>\n",
              "      <td>2018-02-05</td>\n",
              "      <td>55.530</td>\n",
              "      <td>56.26</td>\n",
              "      <td>54.57</td>\n",
              "      <td>54.69</td>\n",
              "      <td>16059955</td>\n",
              "      <td>SBUX</td>\n",
              "    </tr>\n",
              "    <tr>\n",
              "      <th>1257</th>\n",
              "      <td>2018-02-06</td>\n",
              "      <td>53.685</td>\n",
              "      <td>56.06</td>\n",
              "      <td>53.56</td>\n",
              "      <td>55.61</td>\n",
              "      <td>17415065</td>\n",
              "      <td>SBUX</td>\n",
              "    </tr>\n",
              "    <tr>\n",
              "      <th>1258</th>\n",
              "      <td>2018-02-07</td>\n",
              "      <td>55.080</td>\n",
              "      <td>55.43</td>\n",
              "      <td>54.44</td>\n",
              "      <td>54.46</td>\n",
              "      <td>13927022</td>\n",
              "      <td>SBUX</td>\n",
              "    </tr>\n",
              "  </tbody>\n",
              "</table>\n",
              "</div>"
            ],
            "text/plain": [
              "            date    open   high    low  close    volume  Name\n",
              "1254  2018-02-01  56.280  56.42  55.89  56.00  14690146  SBUX\n",
              "1255  2018-02-02  55.900  56.32  55.70  55.77  15358909  SBUX\n",
              "1256  2018-02-05  55.530  56.26  54.57  54.69  16059955  SBUX\n",
              "1257  2018-02-06  53.685  56.06  53.56  55.61  17415065  SBUX\n",
              "1258  2018-02-07  55.080  55.43  54.44  54.46  13927022  SBUX"
            ]
          },
          "metadata": {},
          "execution_count": 5
        }
      ]
    },
    {
      "cell_type": "code",
      "metadata": {
        "id": "qczc-TUNO0th"
      },
      "source": [
        "series = df['close'].values.reshape(-1, 1)"
      ],
      "execution_count": 7,
      "outputs": []
    },
    {
      "cell_type": "code",
      "metadata": {
        "id": "X6lJwsOgPVaB"
      },
      "source": [
        "scaler = StandardScaler()\n",
        "scaler.fit(series[:len(series) // 2])\n",
        "series = scaler.transform(series).flatten()"
      ],
      "execution_count": 8,
      "outputs": []
    },
    {
      "cell_type": "code",
      "metadata": {
        "id": "3j6Jk2pkPTjE",
        "colab": {
          "base_uri": "https://localhost:8080/"
        },
        "outputId": "3d59160b-2532-4227-d9a3-2537a7c3a1cb"
      },
      "source": [
        "T = 10\n",
        "D = 1\n",
        "X = []\n",
        "Y = []\n",
        "for t in range(len(series) - T):\n",
        "  x = series[t:t+T]\n",
        "  X.append(x)\n",
        "  y = series[t+T]\n",
        "  Y.append(y)\n",
        "\n",
        "X = np.array(X).reshape(-1, T, 1) # Now the data should be N x T x D\n",
        "Y = np.array(Y)\n",
        "N = len(X)\n",
        "print(\"X.shape\", X.shape, \"Y.shape\", Y.shape)"
      ],
      "execution_count": 9,
      "outputs": [
        {
          "output_type": "stream",
          "name": "stdout",
          "text": [
            "X.shape (1249, 10, 1) Y.shape (1249,)\n"
          ]
        }
      ]
    },
    {
      "cell_type": "code",
      "metadata": {
        "id": "R5uMLXonPEnZ",
        "colab": {
          "base_uri": "https://localhost:8080/"
        },
        "outputId": "ee4797bc-e4e1-430d-c4ce-0cedd9667369"
      },
      "source": [
        "i = Input(shape=(T, 1))\n",
        "x = LSTM(5)(i)\n",
        "x = Dense(1)(x)\n",
        "model = Model(i, x)\n",
        "model.compile(\n",
        "  loss='mse',\n",
        "  optimizer=Adam(lr=0.1),\n",
        ")\n",
        "\n",
        "# train the RNN\n",
        "r = model.fit(\n",
        "  X[:-N//2], Y[:-N//2],\n",
        "  epochs=80,\n",
        "  validation_data=(X[-N//2:], Y[-N//2:]),\n",
        ")"
      ],
      "execution_count": 10,
      "outputs": [
        {
          "output_type": "stream",
          "name": "stderr",
          "text": [
            "/usr/local/lib/python3.7/dist-packages/keras/optimizer_v2/optimizer_v2.py:356: UserWarning: The `lr` argument is deprecated, use `learning_rate` instead.\n",
            "  \"The `lr` argument is deprecated, use `learning_rate` instead.\")\n"
          ]
        },
        {
          "output_type": "stream",
          "name": "stdout",
          "text": [
            "Epoch 1/80\n",
            "20/20 [==============================] - 8s 35ms/step - loss: 0.2073 - val_loss: 0.2537\n",
            "Epoch 2/80\n",
            "20/20 [==============================] - 0s 9ms/step - loss: 0.0124 - val_loss: 0.0515\n",
            "Epoch 3/80\n",
            "20/20 [==============================] - 0s 8ms/step - loss: 0.0076 - val_loss: 0.0355\n",
            "Epoch 4/80\n",
            "20/20 [==============================] - 0s 9ms/step - loss: 0.0060 - val_loss: 0.0898\n",
            "Epoch 5/80\n",
            "20/20 [==============================] - 0s 10ms/step - loss: 0.0059 - val_loss: 0.0327\n",
            "Epoch 6/80\n",
            "20/20 [==============================] - 0s 9ms/step - loss: 0.0060 - val_loss: 0.0376\n",
            "Epoch 7/80\n",
            "20/20 [==============================] - 0s 9ms/step - loss: 0.0062 - val_loss: 0.0804\n",
            "Epoch 8/80\n",
            "20/20 [==============================] - 0s 8ms/step - loss: 0.0073 - val_loss: 0.0327\n",
            "Epoch 9/80\n",
            "20/20 [==============================] - 0s 8ms/step - loss: 0.0067 - val_loss: 0.0334\n",
            "Epoch 10/80\n",
            "20/20 [==============================] - 0s 10ms/step - loss: 0.0067 - val_loss: 0.0356\n",
            "Epoch 11/80\n",
            "20/20 [==============================] - 0s 8ms/step - loss: 0.0053 - val_loss: 0.0337\n",
            "Epoch 12/80\n",
            "20/20 [==============================] - 0s 8ms/step - loss: 0.0056 - val_loss: 0.0268\n",
            "Epoch 13/80\n",
            "20/20 [==============================] - 0s 8ms/step - loss: 0.0070 - val_loss: 0.0347\n",
            "Epoch 14/80\n",
            "20/20 [==============================] - 0s 9ms/step - loss: 0.0087 - val_loss: 0.0456\n",
            "Epoch 15/80\n",
            "20/20 [==============================] - 0s 9ms/step - loss: 0.0074 - val_loss: 0.0533\n",
            "Epoch 16/80\n",
            "20/20 [==============================] - 0s 10ms/step - loss: 0.0073 - val_loss: 0.0386\n",
            "Epoch 17/80\n",
            "20/20 [==============================] - 0s 8ms/step - loss: 0.0060 - val_loss: 0.0340\n",
            "Epoch 18/80\n",
            "20/20 [==============================] - 0s 9ms/step - loss: 0.0056 - val_loss: 0.0333\n",
            "Epoch 19/80\n",
            "20/20 [==============================] - 0s 9ms/step - loss: 0.0060 - val_loss: 0.0396\n",
            "Epoch 20/80\n",
            "20/20 [==============================] - 0s 8ms/step - loss: 0.0051 - val_loss: 0.0314\n",
            "Epoch 21/80\n",
            "20/20 [==============================] - 0s 9ms/step - loss: 0.0053 - val_loss: 0.0362\n",
            "Epoch 22/80\n",
            "20/20 [==============================] - 0s 9ms/step - loss: 0.0056 - val_loss: 0.0399\n",
            "Epoch 23/80\n",
            "20/20 [==============================] - 0s 9ms/step - loss: 0.0054 - val_loss: 0.0427\n",
            "Epoch 24/80\n",
            "20/20 [==============================] - 0s 9ms/step - loss: 0.0062 - val_loss: 0.0353\n",
            "Epoch 25/80\n",
            "20/20 [==============================] - 0s 9ms/step - loss: 0.0059 - val_loss: 0.0313\n",
            "Epoch 26/80\n",
            "20/20 [==============================] - 0s 8ms/step - loss: 0.0070 - val_loss: 0.0358\n",
            "Epoch 27/80\n",
            "20/20 [==============================] - 0s 9ms/step - loss: 0.0067 - val_loss: 0.0310\n",
            "Epoch 28/80\n",
            "20/20 [==============================] - 0s 8ms/step - loss: 0.0060 - val_loss: 0.0356\n",
            "Epoch 29/80\n",
            "20/20 [==============================] - 0s 8ms/step - loss: 0.0054 - val_loss: 0.0301\n",
            "Epoch 30/80\n",
            "20/20 [==============================] - 0s 8ms/step - loss: 0.0057 - val_loss: 0.0523\n",
            "Epoch 31/80\n",
            "20/20 [==============================] - 0s 10ms/step - loss: 0.0064 - val_loss: 0.0338\n",
            "Epoch 32/80\n",
            "20/20 [==============================] - 0s 9ms/step - loss: 0.0055 - val_loss: 0.0346\n",
            "Epoch 33/80\n",
            "20/20 [==============================] - 0s 9ms/step - loss: 0.0052 - val_loss: 0.0319\n",
            "Epoch 34/80\n",
            "20/20 [==============================] - 0s 8ms/step - loss: 0.0059 - val_loss: 0.0650\n",
            "Epoch 35/80\n",
            "20/20 [==============================] - 0s 9ms/step - loss: 0.0108 - val_loss: 0.1871\n",
            "Epoch 36/80\n",
            "20/20 [==============================] - 0s 10ms/step - loss: 0.0084 - val_loss: 0.0318\n",
            "Epoch 37/80\n",
            "20/20 [==============================] - 0s 9ms/step - loss: 0.0054 - val_loss: 0.0304\n",
            "Epoch 38/80\n",
            "20/20 [==============================] - 0s 9ms/step - loss: 0.0059 - val_loss: 0.0410\n",
            "Epoch 39/80\n",
            "20/20 [==============================] - 0s 8ms/step - loss: 0.0074 - val_loss: 0.0287\n",
            "Epoch 40/80\n",
            "20/20 [==============================] - 0s 9ms/step - loss: 0.0053 - val_loss: 0.0262\n",
            "Epoch 41/80\n",
            "20/20 [==============================] - 0s 8ms/step - loss: 0.0061 - val_loss: 0.0351\n",
            "Epoch 42/80\n",
            "20/20 [==============================] - 0s 9ms/step - loss: 0.0078 - val_loss: 0.0231\n",
            "Epoch 43/80\n",
            "20/20 [==============================] - 0s 9ms/step - loss: 0.0055 - val_loss: 0.0235\n",
            "Epoch 44/80\n",
            "20/20 [==============================] - 0s 10ms/step - loss: 0.0059 - val_loss: 0.0430\n",
            "Epoch 45/80\n",
            "20/20 [==============================] - 0s 9ms/step - loss: 0.0065 - val_loss: 0.0270\n",
            "Epoch 46/80\n",
            "20/20 [==============================] - 0s 8ms/step - loss: 0.0054 - val_loss: 0.0301\n",
            "Epoch 47/80\n",
            "20/20 [==============================] - 0s 10ms/step - loss: 0.0058 - val_loss: 0.0251\n",
            "Epoch 48/80\n",
            "20/20 [==============================] - 0s 8ms/step - loss: 0.0055 - val_loss: 0.0229\n",
            "Epoch 49/80\n",
            "20/20 [==============================] - 0s 9ms/step - loss: 0.0054 - val_loss: 0.0224\n",
            "Epoch 50/80\n",
            "20/20 [==============================] - 0s 9ms/step - loss: 0.0056 - val_loss: 0.0228\n",
            "Epoch 51/80\n",
            "20/20 [==============================] - 0s 8ms/step - loss: 0.0054 - val_loss: 0.0201\n",
            "Epoch 52/80\n",
            "20/20 [==============================] - 0s 9ms/step - loss: 0.0054 - val_loss: 0.0223\n",
            "Epoch 53/80\n",
            "20/20 [==============================] - 0s 8ms/step - loss: 0.0053 - val_loss: 0.0210\n",
            "Epoch 54/80\n",
            "20/20 [==============================] - 0s 8ms/step - loss: 0.0053 - val_loss: 0.0206\n",
            "Epoch 55/80\n",
            "20/20 [==============================] - 0s 10ms/step - loss: 0.0051 - val_loss: 0.0219\n",
            "Epoch 56/80\n",
            "20/20 [==============================] - 0s 9ms/step - loss: 0.0062 - val_loss: 0.0224\n",
            "Epoch 57/80\n",
            "20/20 [==============================] - 0s 9ms/step - loss: 0.0059 - val_loss: 0.0286\n",
            "Epoch 58/80\n",
            "20/20 [==============================] - 0s 9ms/step - loss: 0.0092 - val_loss: 0.0237\n",
            "Epoch 59/80\n",
            "20/20 [==============================] - 0s 9ms/step - loss: 0.0071 - val_loss: 0.0270\n",
            "Epoch 60/80\n",
            "20/20 [==============================] - 0s 9ms/step - loss: 0.0115 - val_loss: 0.0228\n",
            "Epoch 61/80\n",
            "20/20 [==============================] - 0s 9ms/step - loss: 0.0064 - val_loss: 0.0214\n",
            "Epoch 62/80\n",
            "20/20 [==============================] - 0s 8ms/step - loss: 0.0058 - val_loss: 0.0331\n",
            "Epoch 63/80\n",
            "20/20 [==============================] - 0s 8ms/step - loss: 0.0064 - val_loss: 0.0245\n",
            "Epoch 64/80\n",
            "20/20 [==============================] - 0s 8ms/step - loss: 0.0060 - val_loss: 0.0168\n",
            "Epoch 65/80\n",
            "20/20 [==============================] - 0s 8ms/step - loss: 0.0063 - val_loss: 0.0260\n",
            "Epoch 66/80\n",
            "20/20 [==============================] - 0s 9ms/step - loss: 0.0063 - val_loss: 0.0377\n",
            "Epoch 67/80\n",
            "20/20 [==============================] - 0s 8ms/step - loss: 0.0056 - val_loss: 0.0177\n",
            "Epoch 68/80\n",
            "20/20 [==============================] - 0s 9ms/step - loss: 0.0055 - val_loss: 0.0209\n",
            "Epoch 69/80\n",
            "20/20 [==============================] - 0s 9ms/step - loss: 0.0054 - val_loss: 0.0187\n",
            "Epoch 70/80\n",
            "20/20 [==============================] - 0s 9ms/step - loss: 0.0056 - val_loss: 0.0188\n",
            "Epoch 71/80\n",
            "20/20 [==============================] - 0s 9ms/step - loss: 0.0055 - val_loss: 0.0295\n",
            "Epoch 72/80\n",
            "20/20 [==============================] - 0s 9ms/step - loss: 0.0057 - val_loss: 0.0165\n",
            "Epoch 73/80\n",
            "20/20 [==============================] - 0s 8ms/step - loss: 0.0052 - val_loss: 0.0197\n",
            "Epoch 74/80\n",
            "20/20 [==============================] - 0s 8ms/step - loss: 0.0074 - val_loss: 0.0238\n",
            "Epoch 75/80\n",
            "20/20 [==============================] - 0s 9ms/step - loss: 0.0058 - val_loss: 0.0223\n",
            "Epoch 76/80\n",
            "20/20 [==============================] - 0s 8ms/step - loss: 0.0060 - val_loss: 0.0192\n",
            "Epoch 77/80\n",
            "20/20 [==============================] - 0s 9ms/step - loss: 0.0056 - val_loss: 0.0202\n",
            "Epoch 78/80\n",
            "20/20 [==============================] - 0s 9ms/step - loss: 0.0054 - val_loss: 0.0195\n",
            "Epoch 79/80\n",
            "20/20 [==============================] - 0s 8ms/step - loss: 0.0060 - val_loss: 0.0187\n",
            "Epoch 80/80\n",
            "20/20 [==============================] - 0s 8ms/step - loss: 0.0055 - val_loss: 0.0183\n"
          ]
        }
      ]
    },
    {
      "cell_type": "code",
      "metadata": {
        "id": "gNKGakDwP6I8",
        "colab": {
          "base_uri": "https://localhost:8080/",
          "height": 282
        },
        "outputId": "c288bf7f-0ec8-401d-84d8-190186f07ec7"
      },
      "source": [
        "import matplotlib.pyplot as plt\n",
        "plt.plot(r.history['loss'], label='loss')\n",
        "plt.plot(r.history['val_loss'], label='val_loss')\n",
        "plt.legend()"
      ],
      "execution_count": 11,
      "outputs": [
        {
          "output_type": "execute_result",
          "data": {
            "text/plain": [
              "<matplotlib.legend.Legend at 0x7f1bd01b9910>"
            ]
          },
          "metadata": {},
          "execution_count": 11
        },
        {
          "output_type": "display_data",
          "data": {
            "image/png": "[encoded data removed]",
            "text/plain": [
              "<Figure size 432x288 with 1 Axes>"
            ]
          },
          "metadata": {
            "needs_background": "light"
          }
        }
      ]
    },
    {
      "cell_type": "code",
      "metadata": {
        "id": "SnonG_CKP-W2",
        "colab": {
          "base_uri": "https://localhost:8080/",
          "height": 282
        },
        "outputId": "8d5dc3d5-e817-4a52-a5cc-92de2e3240ae"
      },
      "source": [
        "outputs = model.predict(X)\n",
        "print(outputs.shape)\n",
        "predictions = outputs[:,0]\n",
        "\n",
        "plt.plot(Y, label='targets')\n",
        "plt.plot(predictions, label='predictions')\n",
        "plt.legend()\n",
        "plt.show()"
      ],
      "execution_count": 12,
      "outputs": [
        {
          "output_type": "stream",
          "name": "stdout",
          "text": [
            "(1249, 1)\n"
          ]
        },
        {
          "output_type": "display_data",
          "data": {
            "image/png": "[encoded data removed]",
            "text/plain": [
              "<Figure size 432x288 with 1 Axes>"
            ]
          },
          "metadata": {
            "needs_background": "light"
          }
        }
      ]
    },
    {
      "cell_type": "code",
      "metadata": {
        "id": "_lQrWPlHQJw_",
        "colab": {
          "base_uri": "https://localhost:8080/",
          "height": 282
        },
        "outputId": "83cedf16-d457-4088-bb10-35c7cf60d6e2"
      },
      "source": [
        "validation_target = Y[-N//2:]\n",
        "validation_predictions = []\n",
        "\n",
        "last_x = X[-N//2] \n",
        "\n",
        "while len(validation_predictions) < len(validation_target):\n",
        "  p = model.predict(last_x.reshape(1, T, 1))[0,0] # 1x1 array -> scalar\n",
        "  \n",
        "\n",
        "  validation_predictions.append(p)\n",
        "  \n",
        "\n",
        "  last_x = np.roll(last_x, -1)\n",
        "  last_x[-1] = p\n",
        "\n",
        "plt.plot(validation_target, label='forecast target')\n",
        "plt.plot(validation_predictions, label='forecast prediction')\n",
        "plt.legend()"
      ],
      "execution_count": 13,
      "outputs": [
        {
          "output_type": "execute_result",
          "data": {
            "text/plain": [
              "<matplotlib.legend.Legend at 0x7f1bebee7ed0>"
            ]
          },
          "metadata": {},
          "execution_count": 13
        },
        {
          "output_type": "display_data",
          "data": {
            "image/png": "[encoded data removed]",
            "text/plain": [
              "<Figure size 432x288 with 1 Axes>"
            ]
          },
          "metadata": {
            "needs_background": "light"
          }
        }
      ]
    },
    {
      "cell_type": "code",
      "metadata": {
        "id": "HyqtntC7OGu0"
      },
      "source": [
        "\n",
        "df['PrevClose'] = df['close'].shift(1) \n"
      ],
      "execution_count": 14,
      "outputs": []
    },
    {
      "cell_type": "code",
      "metadata": {
        "id": "K4HG4nDUOPHK",
        "colab": {
          "base_uri": "https://localhost:8080/",
          "height": 203
        },
        "outputId": "9e9016ec-8c30-452e-fb50-67fc744405c0"
      },
      "source": [
        "df.head()"
      ],
      "execution_count": 16,
      "outputs": [
        {
          "output_type": "execute_result",
          "data": {
            "text/html": [
              "<div>\n",
              "<style scoped>\n",
              "    .dataframe tbody tr th:only-of-type {\n",
              "        vertical-align: middle;\n",
              "    }\n",
              "\n",
              "    .dataframe tbody tr th {\n",
              "        vertical-align: top;\n",
              "    }\n",
              "\n",
              "    .dataframe thead th {\n",
              "        text-align: right;\n",
              "    }\n",
              "</style>\n",
              "<table border=\"1\" class=\"dataframe\">\n",
              "  <thead>\n",
              "    <tr style=\"text-align: right;\">\n",
              "      <th></th>\n",
              "      <th>date</th>\n",
              "      <th>open</th>\n",
              "      <th>high</th>\n",
              "      <th>low</th>\n",
              "      <th>close</th>\n",
              "      <th>volume</th>\n",
              "      <th>Name</th>\n",
              "      <th>PrevClose</th>\n",
              "      <th>Return</th>\n",
              "    </tr>\n",
              "  </thead>\n",
              "  <tbody>\n",
              "    <tr>\n",
              "      <th>0</th>\n",
              "      <td>2013-02-08</td>\n",
              "      <td>27.920</td>\n",
              "      <td>28.325</td>\n",
              "      <td>27.920</td>\n",
              "      <td>28.185</td>\n",
              "      <td>7146296</td>\n",
              "      <td>SBUX</td>\n",
              "      <td>NaN</td>\n",
              "      <td>NaN</td>\n",
              "    </tr>\n",
              "    <tr>\n",
              "      <th>1</th>\n",
              "      <td>2013-02-11</td>\n",
              "      <td>28.260</td>\n",
              "      <td>28.260</td>\n",
              "      <td>27.930</td>\n",
              "      <td>28.070</td>\n",
              "      <td>5457354</td>\n",
              "      <td>SBUX</td>\n",
              "      <td>28.185</td>\n",
              "      <td>-0.004080</td>\n",
              "    </tr>\n",
              "    <tr>\n",
              "      <th>2</th>\n",
              "      <td>2013-02-12</td>\n",
              "      <td>28.000</td>\n",
              "      <td>28.275</td>\n",
              "      <td>27.975</td>\n",
              "      <td>28.130</td>\n",
              "      <td>8665592</td>\n",
              "      <td>SBUX</td>\n",
              "      <td>28.070</td>\n",
              "      <td>0.002138</td>\n",
              "    </tr>\n",
              "    <tr>\n",
              "      <th>3</th>\n",
              "      <td>2013-02-13</td>\n",
              "      <td>28.230</td>\n",
              "      <td>28.230</td>\n",
              "      <td>27.750</td>\n",
              "      <td>27.915</td>\n",
              "      <td>7022056</td>\n",
              "      <td>SBUX</td>\n",
              "      <td>28.130</td>\n",
              "      <td>-0.007643</td>\n",
              "    </tr>\n",
              "    <tr>\n",
              "      <th>4</th>\n",
              "      <td>2013-02-14</td>\n",
              "      <td>27.765</td>\n",
              "      <td>27.905</td>\n",
              "      <td>27.675</td>\n",
              "      <td>27.775</td>\n",
              "      <td>8899188</td>\n",
              "      <td>SBUX</td>\n",
              "      <td>27.915</td>\n",
              "      <td>-0.005015</td>\n",
              "    </tr>\n",
              "  </tbody>\n",
              "</table>\n",
              "</div>"
            ],
            "text/plain": [
              "         date    open    high     low  ...   volume  Name PrevClose    Return\n",
              "0  2013-02-08  27.920  28.325  27.920  ...  7146296  SBUX       NaN       NaN\n",
              "1  2013-02-11  28.260  28.260  27.930  ...  5457354  SBUX    28.185 -0.004080\n",
              "2  2013-02-12  28.000  28.275  27.975  ...  8665592  SBUX    28.070  0.002138\n",
              "3  2013-02-13  28.230  28.230  27.750  ...  7022056  SBUX    28.130 -0.007643\n",
              "4  2013-02-14  27.765  27.905  27.675  ...  8899188  SBUX    27.915 -0.005015\n",
              "\n",
              "[5 rows x 9 columns]"
            ]
          },
          "metadata": {},
          "execution_count": 16
        }
      ]
    },
    {
      "cell_type": "code",
      "metadata": {
        "id": "8NozObuNORn4"
      },
      "source": [
        "\n",
        "df['Return'] = (df['close'] - df['PrevClose']) / df['PrevClose']"
      ],
      "execution_count": 17,
      "outputs": []
    },
    {
      "cell_type": "code",
      "metadata": {
        "id": "1o0ynO0aOVWu",
        "colab": {
          "base_uri": "https://localhost:8080/",
          "height": 203
        },
        "outputId": "28026284-d77e-4868-ed71-8fee2964774b"
      },
      "source": [
        "df.head()"
      ],
      "execution_count": 18,
      "outputs": [
        {
          "output_type": "execute_result",
          "data": {
            "text/html": [
              "<div>\n",
              "<style scoped>\n",
              "    .dataframe tbody tr th:only-of-type {\n",
              "        vertical-align: middle;\n",
              "    }\n",
              "\n",
              "    .dataframe tbody tr th {\n",
              "        vertical-align: top;\n",
              "    }\n",
              "\n",
              "    .dataframe thead th {\n",
              "        text-align: right;\n",
              "    }\n",
              "</style>\n",
              "<table border=\"1\" class=\"dataframe\">\n",
              "  <thead>\n",
              "    <tr style=\"text-align: right;\">\n",
              "      <th></th>\n",
              "      <th>date</th>\n",
              "      <th>open</th>\n",
              "      <th>high</th>\n",
              "      <th>low</th>\n",
              "      <th>close</th>\n",
              "      <th>volume</th>\n",
              "      <th>Name</th>\n",
              "      <th>PrevClose</th>\n",
              "      <th>Return</th>\n",
              "    </tr>\n",
              "  </thead>\n",
              "  <tbody>\n",
              "    <tr>\n",
              "      <th>0</th>\n",
              "      <td>2013-02-08</td>\n",
              "      <td>27.920</td>\n",
              "      <td>28.325</td>\n",
              "      <td>27.920</td>\n",
              "      <td>28.185</td>\n",
              "      <td>7146296</td>\n",
              "      <td>SBUX</td>\n",
              "      <td>NaN</td>\n",
              "      <td>NaN</td>\n",
              "    </tr>\n",
              "    <tr>\n",
              "      <th>1</th>\n",
              "      <td>2013-02-11</td>\n",
              "      <td>28.260</td>\n",
              "      <td>28.260</td>\n",
              "      <td>27.930</td>\n",
              "      <td>28.070</td>\n",
              "      <td>5457354</td>\n",
              "      <td>SBUX</td>\n",
              "      <td>28.185</td>\n",
              "      <td>-0.004080</td>\n",
              "    </tr>\n",
              "    <tr>\n",
              "      <th>2</th>\n",
              "      <td>2013-02-12</td>\n",
              "      <td>28.000</td>\n",
              "      <td>28.275</td>\n",
              "      <td>27.975</td>\n",
              "      <td>28.130</td>\n",
              "      <td>8665592</td>\n",
              "      <td>SBUX</td>\n",
              "      <td>28.070</td>\n",
              "      <td>0.002138</td>\n",
              "    </tr>\n",
              "    <tr>\n",
              "      <th>3</th>\n",
              "      <td>2013-02-13</td>\n",
              "      <td>28.230</td>\n",
              "      <td>28.230</td>\n",
              "      <td>27.750</td>\n",
              "      <td>27.915</td>\n",
              "      <td>7022056</td>\n",
              "      <td>SBUX</td>\n",
              "      <td>28.130</td>\n",
              "      <td>-0.007643</td>\n",
              "    </tr>\n",
              "    <tr>\n",
              "      <th>4</th>\n",
              "      <td>2013-02-14</td>\n",
              "      <td>27.765</td>\n",
              "      <td>27.905</td>\n",
              "      <td>27.675</td>\n",
              "      <td>27.775</td>\n",
              "      <td>8899188</td>\n",
              "      <td>SBUX</td>\n",
              "      <td>27.915</td>\n",
              "      <td>-0.005015</td>\n",
              "    </tr>\n",
              "  </tbody>\n",
              "</table>\n",
              "</div>"
            ],
            "text/plain": [
              "         date    open    high     low  ...   volume  Name PrevClose    Return\n",
              "0  2013-02-08  27.920  28.325  27.920  ...  7146296  SBUX       NaN       NaN\n",
              "1  2013-02-11  28.260  28.260  27.930  ...  5457354  SBUX    28.185 -0.004080\n",
              "2  2013-02-12  28.000  28.275  27.975  ...  8665592  SBUX    28.070  0.002138\n",
              "3  2013-02-13  28.230  28.230  27.750  ...  7022056  SBUX    28.130 -0.007643\n",
              "4  2013-02-14  27.765  27.905  27.675  ...  8899188  SBUX    27.915 -0.005015\n",
              "\n",
              "[5 rows x 9 columns]"
            ]
          },
          "metadata": {},
          "execution_count": 18
        }
      ]
    },
    {
      "cell_type": "code",
      "metadata": {
        "id": "2caEww0GXddl",
        "colab": {
          "base_uri": "https://localhost:8080/",
          "height": 282
        },
        "outputId": "62fbf61f-eaa2-487c-f1a5-3ee83314a00a"
      },
      "source": [
        "df['Return'].hist()"
      ],
      "execution_count": 19,
      "outputs": [
        {
          "output_type": "execute_result",
          "data": {
            "text/plain": [
              "<matplotlib.axes._subplots.AxesSubplot at 0x7f1bebef8ad0>"
            ]
          },
          "metadata": {},
          "execution_count": 19
        },
        {
          "output_type": "display_data",
          "data": {
            "image/png": "[encoded data removed]",
            "text/plain": [
              "<Figure size 432x288 with 1 Axes>"
            ]
          },
          "metadata": {
            "needs_background": "light"
          }
        }
      ]
    },
    {
      "cell_type": "code",
      "metadata": {
        "id": "t0xUTZvFXoHc"
      },
      "source": [
        "series = df['Return'].values[1:].reshape(-1, 1)\n",
        "\n",
        "\n",
        "scaler = StandardScaler()\n",
        "scaler.fit(series[:len(series) // 2])\n",
        "series = scaler.transform(series).flatten()"
      ],
      "execution_count": 20,
      "outputs": []
    },
    {
      "cell_type": "code",
      "metadata": {
        "id": "PLNwOWOWX1m9",
        "colab": {
          "base_uri": "https://localhost:8080/"
        },
        "outputId": "04dceaf6-907b-4112-c784-25ca0d5e846a"
      },
      "source": [
        "T = 10\n",
        "D = 1\n",
        "X = []\n",
        "Y = []\n",
        "for t in range(len(series) - T):\n",
        "  x = series[t:t+T]\n",
        "  X.append(x)\n",
        "  y = series[t+T]\n",
        "  Y.append(y)\n",
        "\n",
        "X = np.array(X).reshape(-1, T, 1) # Now the data should be N x T x D\n",
        "Y = np.array(Y)\n",
        "N = len(X)\n",
        "print(\"X.shape\", X.shape, \"Y.shape\", Y.shape)"
      ],
      "execution_count": 21,
      "outputs": [
        {
          "output_type": "stream",
          "name": "stdout",
          "text": [
            "X.shape (1248, 10, 1) Y.shape (1248,)\n"
          ]
        }
      ]
    },
    {
      "cell_type": "code",
      "metadata": {
        "id": "F_fhQMaOYAxR",
        "colab": {
          "base_uri": "https://localhost:8080/"
        },
        "outputId": "21ee02b2-bc26-43f4-8bcd-95e5d732ab51"
      },
      "source": [
        "i = Input(shape=(T, 1))\n",
        "x = LSTM(5)(i)\n",
        "x = Dense(1)(x)\n",
        "model = Model(i, x)\n",
        "model.compile(\n",
        "  loss='mse',\n",
        "  optimizer=Adam(lr=0.01),\n",
        ")\n",
        "\n",
        "\n",
        "r = model.fit(\n",
        "  X[:-N//2], Y[:-N//2],\n",
        "  epochs=80,\n",
        "  validation_data=(X[-N//2:], Y[-N//2:]),\n",
        ")"
      ],
      "execution_count": 22,
      "outputs": [
        {
          "output_type": "stream",
          "name": "stderr",
          "text": [
            "/usr/local/lib/python3.7/dist-packages/keras/optimizer_v2/optimizer_v2.py:356: UserWarning: The `lr` argument is deprecated, use `learning_rate` instead.\n",
            "  \"The `lr` argument is deprecated, use `learning_rate` instead.\")\n"
          ]
        },
        {
          "output_type": "stream",
          "name": "stdout",
          "text": [
            "Epoch 1/80\n",
            "20/20 [==============================] - 3s 34ms/step - loss: 1.0231 - val_loss: 1.1476\n",
            "Epoch 2/80\n",
            "20/20 [==============================] - 0s 8ms/step - loss: 0.9959 - val_loss: 1.1358\n",
            "Epoch 3/80\n",
            "20/20 [==============================] - 0s 8ms/step - loss: 0.9896 - val_loss: 1.1421\n",
            "Epoch 4/80\n",
            "20/20 [==============================] - 0s 9ms/step - loss: 0.9847 - val_loss: 1.1368\n",
            "Epoch 5/80\n",
            "20/20 [==============================] - 0s 8ms/step - loss: 0.9866 - val_loss: 1.1404\n",
            "Epoch 6/80\n",
            "20/20 [==============================] - 0s 9ms/step - loss: 0.9837 - val_loss: 1.1384\n",
            "Epoch 7/80\n",
            "20/20 [==============================] - 0s 8ms/step - loss: 0.9835 - val_loss: 1.1486\n",
            "Epoch 8/80\n",
            "20/20 [==============================] - 0s 8ms/step - loss: 0.9874 - val_loss: 1.1369\n",
            "Epoch 9/80\n",
            "20/20 [==============================] - 0s 9ms/step - loss: 0.9837 - val_loss: 1.1550\n",
            "Epoch 10/80\n",
            "20/20 [==============================] - 0s 8ms/step - loss: 0.9825 - val_loss: 1.1435\n",
            "Epoch 11/80\n",
            "20/20 [==============================] - 0s 8ms/step - loss: 0.9847 - val_loss: 1.1444\n",
            "Epoch 12/80\n",
            "20/20 [==============================] - 0s 9ms/step - loss: 0.9840 - val_loss: 1.1529\n",
            "Epoch 13/80\n",
            "20/20 [==============================] - 0s 9ms/step - loss: 0.9812 - val_loss: 1.1435\n",
            "Epoch 14/80\n",
            "20/20 [==============================] - 0s 9ms/step - loss: 0.9820 - val_loss: 1.1446\n",
            "Epoch 15/80\n",
            "20/20 [==============================] - 0s 8ms/step - loss: 0.9825 - val_loss: 1.1519\n",
            "Epoch 16/80\n",
            "20/20 [==============================] - 0s 8ms/step - loss: 0.9826 - val_loss: 1.1444\n",
            "Epoch 17/80\n",
            "20/20 [==============================] - 0s 9ms/step - loss: 0.9813 - val_loss: 1.1506\n",
            "Epoch 18/80\n",
            "20/20 [==============================] - 0s 9ms/step - loss: 0.9830 - val_loss: 1.1451\n",
            "Epoch 19/80\n",
            "20/20 [==============================] - 0s 8ms/step - loss: 0.9802 - val_loss: 1.1565\n",
            "Epoch 20/80\n",
            "20/20 [==============================] - 0s 9ms/step - loss: 0.9816 - val_loss: 1.1436\n",
            "Epoch 21/80\n",
            "20/20 [==============================] - 0s 9ms/step - loss: 0.9837 - val_loss: 1.1478\n",
            "Epoch 22/80\n",
            "20/20 [==============================] - 0s 8ms/step - loss: 0.9804 - val_loss: 1.1520\n",
            "Epoch 23/80\n",
            "20/20 [==============================] - 0s 9ms/step - loss: 0.9789 - val_loss: 1.1429\n",
            "Epoch 24/80\n",
            "20/20 [==============================] - 0s 9ms/step - loss: 0.9785 - val_loss: 1.1484\n",
            "Epoch 25/80\n",
            "20/20 [==============================] - 0s 9ms/step - loss: 0.9780 - val_loss: 1.1509\n",
            "Epoch 26/80\n",
            "20/20 [==============================] - 0s 8ms/step - loss: 0.9782 - val_loss: 1.1530\n",
            "Epoch 27/80\n",
            "20/20 [==============================] - 0s 8ms/step - loss: 0.9785 - val_loss: 1.1484\n",
            "Epoch 28/80\n",
            "20/20 [==============================] - 0s 8ms/step - loss: 0.9812 - val_loss: 1.1472\n",
            "Epoch 29/80\n",
            "20/20 [==============================] - 0s 10ms/step - loss: 0.9770 - val_loss: 1.1555\n",
            "Epoch 30/80\n",
            "20/20 [==============================] - 0s 9ms/step - loss: 0.9795 - val_loss: 1.1617\n",
            "Epoch 31/80\n",
            "20/20 [==============================] - 0s 8ms/step - loss: 0.9745 - val_loss: 1.1476\n",
            "Epoch 32/80\n",
            "20/20 [==============================] - 0s 9ms/step - loss: 0.9738 - val_loss: 1.1512\n",
            "Epoch 33/80\n",
            "20/20 [==============================] - 0s 10ms/step - loss: 0.9725 - val_loss: 1.1687\n",
            "Epoch 34/80\n",
            "20/20 [==============================] - 0s 9ms/step - loss: 0.9674 - val_loss: 1.1490\n",
            "Epoch 35/80\n",
            "20/20 [==============================] - 0s 9ms/step - loss: 0.9652 - val_loss: 1.1813\n",
            "Epoch 36/80\n",
            "20/20 [==============================] - 0s 9ms/step - loss: 0.9680 - val_loss: 1.1406\n",
            "Epoch 37/80\n",
            "20/20 [==============================] - 0s 8ms/step - loss: 0.9684 - val_loss: 1.1653\n",
            "Epoch 38/80\n",
            "20/20 [==============================] - 0s 8ms/step - loss: 0.9650 - val_loss: 1.1734\n",
            "Epoch 39/80\n",
            "20/20 [==============================] - 0s 8ms/step - loss: 0.9576 - val_loss: 1.1635\n",
            "Epoch 40/80\n",
            "20/20 [==============================] - 0s 8ms/step - loss: 0.9535 - val_loss: 1.1756\n",
            "Epoch 41/80\n",
            "20/20 [==============================] - 0s 9ms/step - loss: 0.9414 - val_loss: 1.1824\n",
            "Epoch 42/80\n",
            "20/20 [==============================] - 0s 8ms/step - loss: 0.9451 - val_loss: 1.2096\n",
            "Epoch 43/80\n",
            "20/20 [==============================] - 0s 10ms/step - loss: 0.9403 - val_loss: 1.1724\n",
            "Epoch 44/80\n",
            "20/20 [==============================] - 0s 8ms/step - loss: 0.9400 - val_loss: 1.1962\n",
            "Epoch 45/80\n",
            "20/20 [==============================] - 0s 9ms/step - loss: 0.9368 - val_loss: 1.1988\n",
            "Epoch 46/80\n",
            "20/20 [==============================] - 0s 10ms/step - loss: 0.9277 - val_loss: 1.2115\n",
            "Epoch 47/80\n",
            "20/20 [==============================] - 0s 9ms/step - loss: 0.9244 - val_loss: 1.2088\n",
            "Epoch 48/80\n",
            "20/20 [==============================] - 0s 8ms/step - loss: 0.9257 - val_loss: 1.2314\n",
            "Epoch 49/80\n",
            "20/20 [==============================] - 0s 8ms/step - loss: 0.9090 - val_loss: 1.2164\n",
            "Epoch 50/80\n",
            "20/20 [==============================] - 0s 8ms/step - loss: 0.8972 - val_loss: 1.2275\n",
            "Epoch 51/80\n",
            "20/20 [==============================] - 0s 9ms/step - loss: 0.8948 - val_loss: 1.2301\n",
            "Epoch 52/80\n",
            "20/20 [==============================] - 0s 10ms/step - loss: 0.8919 - val_loss: 1.2467\n",
            "Epoch 53/80\n",
            "20/20 [==============================] - 0s 8ms/step - loss: 0.8852 - val_loss: 1.2537\n",
            "Epoch 54/80\n",
            "20/20 [==============================] - 0s 9ms/step - loss: 0.9026 - val_loss: 1.2782\n",
            "Epoch 55/80\n",
            "20/20 [==============================] - 0s 9ms/step - loss: 0.8765 - val_loss: 1.2467\n",
            "Epoch 56/80\n",
            "20/20 [==============================] - 0s 9ms/step - loss: 0.8688 - val_loss: 1.2863\n",
            "Epoch 57/80\n",
            "20/20 [==============================] - 0s 10ms/step - loss: 0.8643 - val_loss: 1.2748\n",
            "Epoch 58/80\n",
            "20/20 [==============================] - 0s 8ms/step - loss: 0.8737 - val_loss: 1.2860\n",
            "Epoch 59/80\n",
            "20/20 [==============================] - 0s 8ms/step - loss: 0.8748 - val_loss: 1.2957\n",
            "Epoch 60/80\n",
            "20/20 [==============================] - 0s 9ms/step - loss: 0.8481 - val_loss: 1.2714\n",
            "Epoch 61/80\n",
            "20/20 [==============================] - 0s 9ms/step - loss: 0.8520 - val_loss: 1.3030\n",
            "Epoch 62/80\n",
            "20/20 [==============================] - 0s 9ms/step - loss: 0.8439 - val_loss: 1.3156\n",
            "Epoch 63/80\n",
            "20/20 [==============================] - 0s 10ms/step - loss: 0.8491 - val_loss: 1.3253\n",
            "Epoch 64/80\n",
            "20/20 [==============================] - 0s 9ms/step - loss: 0.8499 - val_loss: 1.3329\n",
            "Epoch 65/80\n",
            "20/20 [==============================] - 0s 8ms/step - loss: 0.8322 - val_loss: 1.3659\n",
            "Epoch 66/80\n",
            "20/20 [==============================] - 0s 8ms/step - loss: 0.8322 - val_loss: 1.3246\n",
            "Epoch 67/80\n",
            "20/20 [==============================] - 0s 9ms/step - loss: 0.8374 - val_loss: 1.3431\n",
            "Epoch 68/80\n",
            "20/20 [==============================] - 0s 9ms/step - loss: 0.8269 - val_loss: 1.3833\n",
            "Epoch 69/80\n",
            "20/20 [==============================] - 0s 8ms/step - loss: 0.8366 - val_loss: 1.3457\n",
            "Epoch 70/80\n",
            "20/20 [==============================] - 0s 8ms/step - loss: 0.8205 - val_loss: 1.3366\n",
            "Epoch 71/80\n",
            "20/20 [==============================] - 0s 8ms/step - loss: 0.8088 - val_loss: 1.3933\n",
            "Epoch 72/80\n",
            "20/20 [==============================] - 0s 9ms/step - loss: 0.8003 - val_loss: 1.3763\n",
            "Epoch 73/80\n",
            "20/20 [==============================] - 0s 9ms/step - loss: 0.8233 - val_loss: 1.4011\n",
            "Epoch 74/80\n",
            "20/20 [==============================] - 0s 9ms/step - loss: 0.7976 - val_loss: 1.4100\n",
            "Epoch 75/80\n",
            "20/20 [==============================] - 0s 8ms/step - loss: 0.7916 - val_loss: 1.4317\n",
            "Epoch 76/80\n",
            "20/20 [==============================] - 0s 9ms/step - loss: 0.7796 - val_loss: 1.4248\n",
            "Epoch 77/80\n",
            "20/20 [==============================] - 0s 8ms/step - loss: 0.7849 - val_loss: 1.4199\n",
            "Epoch 78/80\n",
            "20/20 [==============================] - 0s 8ms/step - loss: 0.7806 - val_loss: 1.3998\n",
            "Epoch 79/80\n",
            "20/20 [==============================] - 0s 9ms/step - loss: 0.7823 - val_loss: 1.4110\n",
            "Epoch 80/80\n",
            "20/20 [==============================] - 0s 8ms/step - loss: 0.7873 - val_loss: 1.3905\n"
          ]
        }
      ]
    },
    {
      "cell_type": "code",
      "metadata": {
        "id": "-RulDED_YFAQ",
        "colab": {
          "base_uri": "https://localhost:8080/",
          "height": 282
        },
        "outputId": "6a669e7b-5988-42f7-f101-fa2cf44b5cd3"
      },
      "source": [
        "import matplotlib.pyplot as plt\n",
        "plt.plot(r.history['loss'], label='loss')\n",
        "plt.plot(r.history['val_loss'], label='val_loss')\n",
        "plt.legend()"
      ],
      "execution_count": 23,
      "outputs": [
        {
          "output_type": "execute_result",
          "data": {
            "text/plain": [
              "<matplotlib.legend.Legend at 0x7f1bebdf8090>"
            ]
          },
          "metadata": {},
          "execution_count": 23
        },
        {
          "output_type": "display_data",
          "data": {
            "image/png": "[encoded data removed]",
            "text/plain": [
              "<Figure size 432x288 with 1 Axes>"
            ]
          },
          "metadata": {
            "needs_background": "light"
          }
        }
      ]
    },
    {
      "cell_type": "code",
      "metadata": {
        "id": "euWSVgj2YFXA",
        "colab": {
          "base_uri": "https://localhost:8080/",
          "height": 282
        },
        "outputId": "859e2976-24f3-42e8-c812-96513d72ec79"
      },
      "source": [
        "outputs = model.predict(X)\n",
        "print(outputs.shape)\n",
        "predictions = outputs[:,0]\n",
        "\n",
        "plt.plot(Y, label='targets')\n",
        "plt.plot(predictions, label='predictions')\n",
        "plt.legend()\n",
        "plt.show()"
      ],
      "execution_count": 24,
      "outputs": [
        {
          "output_type": "stream",
          "name": "stdout",
          "text": [
            "(1248, 1)\n"
          ]
        },
        {
          "output_type": "display_data",
          "data": {
            "image/png": "[encoded data removed]",
            "text/plain": [
              "<Figure size 432x288 with 1 Axes>"
            ]
          },
          "metadata": {
            "needs_background": "light"
          }
        }
      ]
    },
    {
      "cell_type": "code",
      "metadata": {
        "id": "Vqu6ScQrYIWV",
        "colab": {
          "base_uri": "https://localhost:8080/",
          "height": 282
        },
        "outputId": "f5c884f1-6568-4da8-fbea-ecca84e88467"
      },
      "source": [
        "\n",
        "validation_target = Y[-N//2:]\n",
        "validation_predictions = []\n",
        "\n",
        "\n",
        "last_x = X[-N//2] \n",
        "\n",
        "while len(validation_predictions) < len(validation_target):\n",
        "  p = model.predict(last_x.reshape(1, T, 1))[0,0] # 1x1 array -> scalar\n",
        "  \n",
        "  # update the predictions list\n",
        "  validation_predictions.append(p)\n",
        "  \n",
        "  # make the new input\n",
        "  last_x = np.roll(last_x, -1)\n",
        "  last_x[-1] = p\n",
        "\n",
        "plt.plot(validation_target, label='forecast target')\n",
        "plt.plot(validation_predictions, label='forecast prediction')\n",
        "plt.legend()"
      ],
      "execution_count": 25,
      "outputs": [
        {
          "output_type": "execute_result",
          "data": {
            "text/plain": [
              "<matplotlib.legend.Legend at 0x7f1becfb0f90>"
            ]
          },
          "metadata": {},
          "execution_count": 25
        },
        {
          "output_type": "display_data",
          "data": {
            "image/png": "[encoded data removed]",
            "text/plain": [
              "<Figure size 432x288 with 1 Axes>"
            ]
          },
          "metadata": {
            "needs_background": "light"
          }
        }
      ]
    },
    {
      "cell_type": "code",
      "metadata": {
        "id": "VwgGvQsDOZ5T"
      },
      "source": [
        "input_data = df[['open', 'high', 'low', 'close', 'volume']].values\n",
        "targets = df['Return'].values"
      ],
      "execution_count": 26,
      "outputs": []
    },
    {
      "cell_type": "code",
      "metadata": {
        "id": "-sdYhd7mObwI"
      },
      "source": [
        "\n",
        "T = 10 \n",
        "D = input_data.shape[1]\n",
        "N = len(input_data) - T "
      ],
      "execution_count": 28,
      "outputs": []
    },
    {
      "cell_type": "code",
      "metadata": {
        "id": "79CkMlgHOejZ"
      },
      "source": [
        "\n",
        "Ntrain = len(input_data) * 2 // 3\n",
        "scaler = StandardScaler()\n",
        "scaler.fit(input_data[:Ntrain + T - 1])\n",
        "input_data = scaler.transform(input_data)"
      ],
      "execution_count": 29,
      "outputs": []
    },
    {
      "cell_type": "code",
      "metadata": {
        "id": "bfQcj1gpOme2"
      },
      "source": [
        "X_train = np.zeros((Ntrain, T, D))\n",
        "Y_train = np.zeros(Ntrain)\n",
        "\n",
        "for t in range(Ntrain):\n",
        "  X_train[t, :, :] = input_data[t:t+T]\n",
        "  Y_train[t] = (targets[t+T] > 0)"
      ],
      "execution_count": 30,
      "outputs": []
    },
    {
      "cell_type": "code",
      "metadata": {
        "id": "HhUo6COMOsZi"
      },
      "source": [
        "X_test = np.zeros((N - Ntrain, T, D))\n",
        "Y_test = np.zeros(N - Ntrain)\n",
        "\n",
        "for u in range(N - Ntrain):\n",
        "  t = u + Ntrain\n",
        "  X_test[u, :, :] = input_data[t:t+T]\n",
        "  Y_test[u] = (targets[t+T] > 0)"
      ],
      "execution_count": 31,
      "outputs": []
    },
    {
      "cell_type": "code",
      "metadata": {
        "id": "7tBDk_1FRUFt",
        "colab": {
          "base_uri": "https://localhost:8080/"
        },
        "outputId": "d057994a-f40a-4290-d1e4-928c202d3cbc"
      },
      "source": [
        "i = Input(shape=(T, D))\n",
        "x = LSTM(50)(i)\n",
        "x = Dense(1, activation='sigmoid')(x)\n",
        "model = Model(i, x)\n",
        "model.compile(\n",
        "  loss='binary_crossentropy',\n",
        "  optimizer=Adam(lr=0.001),\n",
        "  metrics=['accuracy'],\n",
        ")"
      ],
      "execution_count": 32,
      "outputs": [
        {
          "output_type": "stream",
          "name": "stderr",
          "text": [
            "/usr/local/lib/python3.7/dist-packages/keras/optimizer_v2/optimizer_v2.py:356: UserWarning: The `lr` argument is deprecated, use `learning_rate` instead.\n",
            "  \"The `lr` argument is deprecated, use `learning_rate` instead.\")\n"
          ]
        }
      ]
    },
    {
      "cell_type": "code",
      "metadata": {
        "id": "IQqNykvGRXGz",
        "colab": {
          "base_uri": "https://localhost:8080/"
        },
        "outputId": "9ce89f77-6500-4dd0-b308-886dc25b8582"
      },
      "source": [
        "r = model.fit(\n",
        "  X_train, Y_train,\n",
        "  batch_size=32,\n",
        "  epochs=300,\n",
        "  validation_data=(X_test, Y_test),\n",
        ")"
      ],
      "execution_count": 33,
      "outputs": [
        {
          "output_type": "stream",
          "name": "stdout",
          "text": [
            "Epoch 1/300\n",
            "27/27 [==============================] - 3s 29ms/step - loss: 0.6954 - accuracy: 0.4970 - val_loss: 0.6946 - val_accuracy: 0.4780\n",
            "Epoch 2/300\n",
            "27/27 [==============================] - 0s 9ms/step - loss: 0.6929 - accuracy: 0.5113 - val_loss: 0.6971 - val_accuracy: 0.4878\n",
            "Epoch 3/300\n",
            "27/27 [==============================] - 0s 10ms/step - loss: 0.6930 - accuracy: 0.5125 - val_loss: 0.6941 - val_accuracy: 0.5024\n",
            "Epoch 4/300\n",
            "27/27 [==============================] - 0s 9ms/step - loss: 0.6910 - accuracy: 0.5292 - val_loss: 0.6922 - val_accuracy: 0.5098\n",
            "Epoch 5/300\n",
            "27/27 [==============================] - 0s 10ms/step - loss: 0.6897 - accuracy: 0.5256 - val_loss: 0.7028 - val_accuracy: 0.4854\n",
            "Epoch 6/300\n",
            "27/27 [==============================] - 0s 8ms/step - loss: 0.6905 - accuracy: 0.5292 - val_loss: 0.6900 - val_accuracy: 0.5537\n",
            "Epoch 7/300\n",
            "27/27 [==============================] - 0s 8ms/step - loss: 0.6907 - accuracy: 0.5292 - val_loss: 0.6960 - val_accuracy: 0.5049\n",
            "Epoch 8/300\n",
            "27/27 [==============================] - 0s 9ms/step - loss: 0.6892 - accuracy: 0.5292 - val_loss: 0.6934 - val_accuracy: 0.4927\n",
            "Epoch 9/300\n",
            "27/27 [==============================] - 0s 9ms/step - loss: 0.6889 - accuracy: 0.5352 - val_loss: 0.7005 - val_accuracy: 0.4951\n",
            "Epoch 10/300\n",
            "27/27 [==============================] - 0s 9ms/step - loss: 0.6892 - accuracy: 0.5125 - val_loss: 0.6898 - val_accuracy: 0.5439\n",
            "Epoch 11/300\n",
            "27/27 [==============================] - 0s 9ms/step - loss: 0.6900 - accuracy: 0.5340 - val_loss: 0.6969 - val_accuracy: 0.5024\n",
            "Epoch 12/300\n",
            "27/27 [==============================] - 0s 8ms/step - loss: 0.6879 - accuracy: 0.5435 - val_loss: 0.6918 - val_accuracy: 0.5146\n",
            "Epoch 13/300\n",
            "27/27 [==============================] - 0s 9ms/step - loss: 0.6881 - accuracy: 0.5280 - val_loss: 0.6910 - val_accuracy: 0.5244\n",
            "Epoch 14/300\n",
            "27/27 [==============================] - 0s 10ms/step - loss: 0.6880 - accuracy: 0.5471 - val_loss: 0.6934 - val_accuracy: 0.4976\n",
            "Epoch 15/300\n",
            "27/27 [==============================] - 0s 9ms/step - loss: 0.6880 - accuracy: 0.5280 - val_loss: 0.6946 - val_accuracy: 0.4902\n",
            "Epoch 16/300\n",
            "27/27 [==============================] - 0s 10ms/step - loss: 0.6870 - accuracy: 0.5352 - val_loss: 0.6957 - val_accuracy: 0.4878\n",
            "Epoch 17/300\n",
            "27/27 [==============================] - 0s 10ms/step - loss: 0.6871 - accuracy: 0.5447 - val_loss: 0.6913 - val_accuracy: 0.5268\n",
            "Epoch 18/300\n",
            "27/27 [==============================] - 0s 9ms/step - loss: 0.6874 - accuracy: 0.5328 - val_loss: 0.6949 - val_accuracy: 0.4902\n",
            "Epoch 19/300\n",
            "27/27 [==============================] - 0s 9ms/step - loss: 0.6867 - accuracy: 0.5435 - val_loss: 0.6940 - val_accuracy: 0.4878\n",
            "Epoch 20/300\n",
            "27/27 [==============================] - 0s 9ms/step - loss: 0.6854 - accuracy: 0.5578 - val_loss: 0.6919 - val_accuracy: 0.5122\n",
            "Epoch 21/300\n",
            "27/27 [==============================] - 0s 10ms/step - loss: 0.6855 - accuracy: 0.5447 - val_loss: 0.6971 - val_accuracy: 0.4902\n",
            "Epoch 22/300\n",
            "27/27 [==============================] - 0s 10ms/step - loss: 0.6855 - accuracy: 0.5518 - val_loss: 0.6966 - val_accuracy: 0.4902\n",
            "Epoch 23/300\n",
            "27/27 [==============================] - 0s 9ms/step - loss: 0.6866 - accuracy: 0.5518 - val_loss: 0.6930 - val_accuracy: 0.5171\n",
            "Epoch 24/300\n",
            "27/27 [==============================] - 0s 9ms/step - loss: 0.6847 - accuracy: 0.5638 - val_loss: 0.6932 - val_accuracy: 0.5146\n",
            "Epoch 25/300\n",
            "27/27 [==============================] - 0s 10ms/step - loss: 0.6853 - accuracy: 0.5602 - val_loss: 0.6932 - val_accuracy: 0.5195\n",
            "Epoch 26/300\n",
            "27/27 [==============================] - 0s 10ms/step - loss: 0.6880 - accuracy: 0.5447 - val_loss: 0.6933 - val_accuracy: 0.5146\n",
            "Epoch 27/300\n",
            "27/27 [==============================] - 0s 8ms/step - loss: 0.6847 - accuracy: 0.5507 - val_loss: 0.7003 - val_accuracy: 0.4829\n",
            "Epoch 28/300\n",
            "27/27 [==============================] - 0s 9ms/step - loss: 0.6838 - accuracy: 0.5602 - val_loss: 0.6922 - val_accuracy: 0.5317\n",
            "Epoch 29/300\n",
            "27/27 [==============================] - 0s 9ms/step - loss: 0.6843 - accuracy: 0.5578 - val_loss: 0.6922 - val_accuracy: 0.5244\n",
            "Epoch 30/300\n",
            "27/27 [==============================] - 0s 10ms/step - loss: 0.6866 - accuracy: 0.5483 - val_loss: 0.6985 - val_accuracy: 0.4854\n",
            "Epoch 31/300\n",
            "27/27 [==============================] - 0s 10ms/step - loss: 0.6835 - accuracy: 0.5590 - val_loss: 0.6944 - val_accuracy: 0.5171\n",
            "Epoch 32/300\n",
            "27/27 [==============================] - 0s 9ms/step - loss: 0.6838 - accuracy: 0.5495 - val_loss: 0.7016 - val_accuracy: 0.4951\n",
            "Epoch 33/300\n",
            "27/27 [==============================] - 0s 9ms/step - loss: 0.6822 - accuracy: 0.5518 - val_loss: 0.6942 - val_accuracy: 0.5244\n",
            "Epoch 34/300\n",
            "27/27 [==============================] - 0s 8ms/step - loss: 0.6827 - accuracy: 0.5697 - val_loss: 0.6959 - val_accuracy: 0.5098\n",
            "Epoch 35/300\n",
            "27/27 [==============================] - 0s 10ms/step - loss: 0.6818 - accuracy: 0.5745 - val_loss: 0.6966 - val_accuracy: 0.5171\n",
            "Epoch 36/300\n",
            "27/27 [==============================] - 0s 9ms/step - loss: 0.6807 - accuracy: 0.5662 - val_loss: 0.6960 - val_accuracy: 0.5268\n",
            "Epoch 37/300\n",
            "27/27 [==============================] - 0s 10ms/step - loss: 0.6820 - accuracy: 0.5566 - val_loss: 0.6982 - val_accuracy: 0.4976\n",
            "Epoch 38/300\n",
            "27/27 [==============================] - 0s 9ms/step - loss: 0.6843 - accuracy: 0.5721 - val_loss: 0.6949 - val_accuracy: 0.5171\n",
            "Epoch 39/300\n",
            "27/27 [==============================] - 0s 10ms/step - loss: 0.6883 - accuracy: 0.5375 - val_loss: 0.6923 - val_accuracy: 0.5293\n",
            "Epoch 40/300\n",
            "27/27 [==============================] - 0s 8ms/step - loss: 0.6818 - accuracy: 0.5769 - val_loss: 0.6971 - val_accuracy: 0.5024\n",
            "Epoch 41/300\n",
            "27/27 [==============================] - 0s 10ms/step - loss: 0.6797 - accuracy: 0.5614 - val_loss: 0.6970 - val_accuracy: 0.5293\n",
            "Epoch 42/300\n",
            "27/27 [==============================] - 0s 9ms/step - loss: 0.6800 - accuracy: 0.5721 - val_loss: 0.6966 - val_accuracy: 0.5293\n",
            "Epoch 43/300\n",
            "27/27 [==============================] - 0s 10ms/step - loss: 0.6794 - accuracy: 0.5650 - val_loss: 0.6975 - val_accuracy: 0.5195\n",
            "Epoch 44/300\n",
            "27/27 [==============================] - 0s 8ms/step - loss: 0.6810 - accuracy: 0.5769 - val_loss: 0.7011 - val_accuracy: 0.4878\n",
            "Epoch 45/300\n",
            "27/27 [==============================] - 0s 10ms/step - loss: 0.6782 - accuracy: 0.5614 - val_loss: 0.6935 - val_accuracy: 0.5268\n",
            "Epoch 46/300\n",
            "27/27 [==============================] - 0s 10ms/step - loss: 0.6767 - accuracy: 0.5662 - val_loss: 0.6997 - val_accuracy: 0.4927\n",
            "Epoch 47/300\n",
            "27/27 [==============================] - 0s 10ms/step - loss: 0.6776 - accuracy: 0.5638 - val_loss: 0.6964 - val_accuracy: 0.5049\n",
            "Epoch 48/300\n",
            "27/27 [==============================] - 0s 10ms/step - loss: 0.6755 - accuracy: 0.5673 - val_loss: 0.6961 - val_accuracy: 0.5122\n",
            "Epoch 49/300\n",
            "27/27 [==============================] - 0s 9ms/step - loss: 0.6749 - accuracy: 0.5685 - val_loss: 0.7012 - val_accuracy: 0.4951\n",
            "Epoch 50/300\n",
            "27/27 [==============================] - 0s 10ms/step - loss: 0.6767 - accuracy: 0.5638 - val_loss: 0.6965 - val_accuracy: 0.5073\n",
            "Epoch 51/300\n",
            "27/27 [==============================] - 0s 8ms/step - loss: 0.6747 - accuracy: 0.5733 - val_loss: 0.6974 - val_accuracy: 0.5098\n",
            "Epoch 52/300\n",
            "27/27 [==============================] - 0s 9ms/step - loss: 0.6749 - accuracy: 0.5650 - val_loss: 0.6943 - val_accuracy: 0.5317\n",
            "Epoch 53/300\n",
            "27/27 [==============================] - 0s 10ms/step - loss: 0.6733 - accuracy: 0.5626 - val_loss: 0.6984 - val_accuracy: 0.5049\n",
            "Epoch 54/300\n",
            "27/27 [==============================] - 0s 9ms/step - loss: 0.6750 - accuracy: 0.5554 - val_loss: 0.6995 - val_accuracy: 0.5195\n",
            "Epoch 55/300\n",
            "27/27 [==============================] - 0s 10ms/step - loss: 0.6739 - accuracy: 0.5530 - val_loss: 0.7011 - val_accuracy: 0.5098\n",
            "Epoch 56/300\n",
            "27/27 [==============================] - 0s 9ms/step - loss: 0.6740 - accuracy: 0.5709 - val_loss: 0.7029 - val_accuracy: 0.4902\n",
            "Epoch 57/300\n",
            "27/27 [==============================] - 0s 9ms/step - loss: 0.6730 - accuracy: 0.5673 - val_loss: 0.6997 - val_accuracy: 0.5000\n",
            "Epoch 58/300\n",
            "27/27 [==============================] - 0s 10ms/step - loss: 0.6697 - accuracy: 0.5662 - val_loss: 0.6983 - val_accuracy: 0.5122\n",
            "Epoch 59/300\n",
            "27/27 [==============================] - 0s 9ms/step - loss: 0.6707 - accuracy: 0.5805 - val_loss: 0.7000 - val_accuracy: 0.4976\n",
            "Epoch 60/300\n",
            "27/27 [==============================] - 0s 9ms/step - loss: 0.6684 - accuracy: 0.5805 - val_loss: 0.6991 - val_accuracy: 0.5049\n",
            "Epoch 61/300\n",
            "27/27 [==============================] - 0s 8ms/step - loss: 0.6711 - accuracy: 0.5662 - val_loss: 0.6981 - val_accuracy: 0.5024\n",
            "Epoch 62/300\n",
            "27/27 [==============================] - 0s 10ms/step - loss: 0.6693 - accuracy: 0.5650 - val_loss: 0.7019 - val_accuracy: 0.5049\n",
            "Epoch 63/300\n",
            "27/27 [==============================] - 0s 10ms/step - loss: 0.6659 - accuracy: 0.5816 - val_loss: 0.7032 - val_accuracy: 0.5024\n",
            "Epoch 64/300\n",
            "27/27 [==============================] - 0s 9ms/step - loss: 0.6672 - accuracy: 0.5781 - val_loss: 0.7030 - val_accuracy: 0.4951\n",
            "Epoch 65/300\n",
            "27/27 [==============================] - 0s 10ms/step - loss: 0.6658 - accuracy: 0.5709 - val_loss: 0.7036 - val_accuracy: 0.4902\n",
            "Epoch 66/300\n",
            "27/27 [==============================] - 0s 8ms/step - loss: 0.6660 - accuracy: 0.5626 - val_loss: 0.7079 - val_accuracy: 0.4854\n",
            "Epoch 67/300\n",
            "27/27 [==============================] - 0s 9ms/step - loss: 0.6637 - accuracy: 0.5900 - val_loss: 0.7023 - val_accuracy: 0.4854\n",
            "Epoch 68/300\n",
            "27/27 [==============================] - 0s 9ms/step - loss: 0.6620 - accuracy: 0.5769 - val_loss: 0.7034 - val_accuracy: 0.5000\n",
            "Epoch 69/300\n",
            "27/27 [==============================] - 0s 9ms/step - loss: 0.6602 - accuracy: 0.5876 - val_loss: 0.7064 - val_accuracy: 0.4976\n",
            "Epoch 70/300\n",
            "27/27 [==============================] - 0s 9ms/step - loss: 0.6619 - accuracy: 0.5924 - val_loss: 0.7147 - val_accuracy: 0.4878\n",
            "Epoch 71/300\n",
            "27/27 [==============================] - 0s 9ms/step - loss: 0.6636 - accuracy: 0.5900 - val_loss: 0.7012 - val_accuracy: 0.4951\n",
            "Epoch 72/300\n",
            "27/27 [==============================] - 0s 9ms/step - loss: 0.6582 - accuracy: 0.5936 - val_loss: 0.7081 - val_accuracy: 0.4976\n",
            "Epoch 73/300\n",
            "27/27 [==============================] - 0s 9ms/step - loss: 0.6612 - accuracy: 0.5876 - val_loss: 0.7072 - val_accuracy: 0.4902\n",
            "Epoch 74/300\n",
            "27/27 [==============================] - 0s 8ms/step - loss: 0.6561 - accuracy: 0.5888 - val_loss: 0.7057 - val_accuracy: 0.5000\n",
            "Epoch 75/300\n",
            "27/27 [==============================] - 0s 9ms/step - loss: 0.6570 - accuracy: 0.6031 - val_loss: 0.7086 - val_accuracy: 0.4854\n",
            "Epoch 76/300\n",
            "27/27 [==============================] - 0s 10ms/step - loss: 0.6552 - accuracy: 0.5971 - val_loss: 0.7078 - val_accuracy: 0.4780\n",
            "Epoch 77/300\n",
            "27/27 [==============================] - 0s 10ms/step - loss: 0.6593 - accuracy: 0.5828 - val_loss: 0.7069 - val_accuracy: 0.4707\n",
            "Epoch 78/300\n",
            "27/27 [==============================] - 0s 9ms/step - loss: 0.6507 - accuracy: 0.5912 - val_loss: 0.7114 - val_accuracy: 0.4878\n",
            "Epoch 79/300\n",
            "27/27 [==============================] - 0s 8ms/step - loss: 0.6484 - accuracy: 0.6043 - val_loss: 0.7069 - val_accuracy: 0.4732\n",
            "Epoch 80/300\n",
            "27/27 [==============================] - 0s 9ms/step - loss: 0.6498 - accuracy: 0.6162 - val_loss: 0.7138 - val_accuracy: 0.4854\n",
            "Epoch 81/300\n",
            "27/27 [==============================] - 0s 10ms/step - loss: 0.6468 - accuracy: 0.6067 - val_loss: 0.7166 - val_accuracy: 0.4902\n",
            "Epoch 82/300\n",
            "27/27 [==============================] - 0s 10ms/step - loss: 0.6456 - accuracy: 0.6114 - val_loss: 0.7077 - val_accuracy: 0.4878\n",
            "Epoch 83/300\n",
            "27/27 [==============================] - 0s 10ms/step - loss: 0.6454 - accuracy: 0.6055 - val_loss: 0.7126 - val_accuracy: 0.4951\n",
            "Epoch 84/300\n",
            "27/27 [==============================] - 0s 10ms/step - loss: 0.6441 - accuracy: 0.6019 - val_loss: 0.7126 - val_accuracy: 0.4829\n",
            "Epoch 85/300\n",
            "27/27 [==============================] - 0s 9ms/step - loss: 0.6410 - accuracy: 0.6091 - val_loss: 0.7114 - val_accuracy: 0.4951\n",
            "Epoch 86/300\n",
            "27/27 [==============================] - 0s 8ms/step - loss: 0.6420 - accuracy: 0.6210 - val_loss: 0.7159 - val_accuracy: 0.4854\n",
            "Epoch 87/300\n",
            "27/27 [==============================] - 0s 10ms/step - loss: 0.6431 - accuracy: 0.6126 - val_loss: 0.7125 - val_accuracy: 0.4829\n",
            "Epoch 88/300\n",
            "27/27 [==============================] - 0s 9ms/step - loss: 0.6387 - accuracy: 0.6150 - val_loss: 0.7115 - val_accuracy: 0.4537\n",
            "Epoch 89/300\n",
            "27/27 [==============================] - 0s 10ms/step - loss: 0.6343 - accuracy: 0.6281 - val_loss: 0.7204 - val_accuracy: 0.4707\n",
            "Epoch 90/300\n",
            "27/27 [==============================] - 0s 9ms/step - loss: 0.6363 - accuracy: 0.6305 - val_loss: 0.7257 - val_accuracy: 0.4659\n",
            "Epoch 91/300\n",
            "27/27 [==============================] - 0s 9ms/step - loss: 0.6318 - accuracy: 0.6222 - val_loss: 0.7202 - val_accuracy: 0.4927\n",
            "Epoch 92/300\n",
            "27/27 [==============================] - 0s 9ms/step - loss: 0.6313 - accuracy: 0.6281 - val_loss: 0.7130 - val_accuracy: 0.4854\n",
            "Epoch 93/300\n",
            "27/27 [==============================] - 0s 10ms/step - loss: 0.6295 - accuracy: 0.6198 - val_loss: 0.7183 - val_accuracy: 0.4756\n",
            "Epoch 94/300\n",
            "27/27 [==============================] - 0s 8ms/step - loss: 0.6364 - accuracy: 0.6293 - val_loss: 0.7184 - val_accuracy: 0.4610\n",
            "Epoch 95/300\n",
            "27/27 [==============================] - 0s 9ms/step - loss: 0.6257 - accuracy: 0.6329 - val_loss: 0.7222 - val_accuracy: 0.4854\n",
            "Epoch 96/300\n",
            "27/27 [==============================] - 0s 9ms/step - loss: 0.6246 - accuracy: 0.6400 - val_loss: 0.7287 - val_accuracy: 0.4707\n",
            "Epoch 97/300\n",
            "27/27 [==============================] - 0s 9ms/step - loss: 0.6252 - accuracy: 0.6389 - val_loss: 0.7202 - val_accuracy: 0.4610\n",
            "Epoch 98/300\n",
            "27/27 [==============================] - 0s 10ms/step - loss: 0.6242 - accuracy: 0.6281 - val_loss: 0.7215 - val_accuracy: 0.4683\n",
            "Epoch 99/300\n",
            "27/27 [==============================] - 0s 8ms/step - loss: 0.6193 - accuracy: 0.6424 - val_loss: 0.7198 - val_accuracy: 0.4610\n",
            "Epoch 100/300\n",
            "27/27 [==============================] - 0s 9ms/step - loss: 0.6168 - accuracy: 0.6484 - val_loss: 0.7278 - val_accuracy: 0.4805\n",
            "Epoch 101/300\n",
            "27/27 [==============================] - 0s 9ms/step - loss: 0.6167 - accuracy: 0.6448 - val_loss: 0.7287 - val_accuracy: 0.4659\n",
            "Epoch 102/300\n",
            "27/27 [==============================] - 0s 9ms/step - loss: 0.6132 - accuracy: 0.6341 - val_loss: 0.7250 - val_accuracy: 0.4756\n",
            "Epoch 103/300\n",
            "27/27 [==============================] - 0s 9ms/step - loss: 0.6092 - accuracy: 0.6615 - val_loss: 0.7368 - val_accuracy: 0.4732\n",
            "Epoch 104/300\n",
            "27/27 [==============================] - 0s 10ms/step - loss: 0.6139 - accuracy: 0.6424 - val_loss: 0.7270 - val_accuracy: 0.4927\n",
            "Epoch 105/300\n",
            "27/27 [==============================] - 0s 10ms/step - loss: 0.6063 - accuracy: 0.6508 - val_loss: 0.7356 - val_accuracy: 0.4902\n",
            "Epoch 106/300\n",
            "27/27 [==============================] - 0s 9ms/step - loss: 0.6027 - accuracy: 0.6436 - val_loss: 0.7319 - val_accuracy: 0.4829\n",
            "Epoch 107/300\n",
            "27/27 [==============================] - 0s 9ms/step - loss: 0.5995 - accuracy: 0.6484 - val_loss: 0.7503 - val_accuracy: 0.4829\n",
            "Epoch 108/300\n",
            "27/27 [==============================] - 0s 10ms/step - loss: 0.6006 - accuracy: 0.6675 - val_loss: 0.7302 - val_accuracy: 0.4805\n",
            "Epoch 109/300\n",
            "27/27 [==============================] - 0s 9ms/step - loss: 0.6013 - accuracy: 0.6460 - val_loss: 0.7415 - val_accuracy: 0.4854\n",
            "Epoch 110/300\n",
            "27/27 [==============================] - 0s 10ms/step - loss: 0.6051 - accuracy: 0.6532 - val_loss: 0.7383 - val_accuracy: 0.4976\n",
            "Epoch 111/300\n",
            "27/27 [==============================] - 0s 9ms/step - loss: 0.6031 - accuracy: 0.6484 - val_loss: 0.7441 - val_accuracy: 0.4854\n",
            "Epoch 112/300\n",
            "27/27 [==============================] - 0s 9ms/step - loss: 0.5996 - accuracy: 0.6389 - val_loss: 0.7458 - val_accuracy: 0.4683\n",
            "Epoch 113/300\n",
            "27/27 [==============================] - 0s 10ms/step - loss: 0.5905 - accuracy: 0.6567 - val_loss: 0.7501 - val_accuracy: 0.4902\n",
            "Epoch 114/300\n",
            "27/27 [==============================] - 0s 9ms/step - loss: 0.5923 - accuracy: 0.6615 - val_loss: 0.7500 - val_accuracy: 0.4756\n",
            "Epoch 115/300\n",
            "27/27 [==============================] - 0s 9ms/step - loss: 0.5868 - accuracy: 0.6675 - val_loss: 0.7494 - val_accuracy: 0.4878\n",
            "Epoch 116/300\n",
            "27/27 [==============================] - 0s 10ms/step - loss: 0.5803 - accuracy: 0.6687 - val_loss: 0.7459 - val_accuracy: 0.4829\n",
            "Epoch 117/300\n",
            "27/27 [==============================] - 0s 9ms/step - loss: 0.5797 - accuracy: 0.6639 - val_loss: 0.7604 - val_accuracy: 0.4780\n",
            "Epoch 118/300\n",
            "27/27 [==============================] - 0s 9ms/step - loss: 0.5787 - accuracy: 0.6579 - val_loss: 0.7521 - val_accuracy: 0.5000\n",
            "Epoch 119/300\n",
            "27/27 [==============================] - 0s 10ms/step - loss: 0.5784 - accuracy: 0.6698 - val_loss: 0.7520 - val_accuracy: 0.4951\n",
            "Epoch 120/300\n",
            "27/27 [==============================] - 0s 9ms/step - loss: 0.5722 - accuracy: 0.6853 - val_loss: 0.7726 - val_accuracy: 0.4707\n",
            "Epoch 121/300\n",
            "27/27 [==============================] - 0s 10ms/step - loss: 0.5753 - accuracy: 0.6830 - val_loss: 0.7646 - val_accuracy: 0.4878\n",
            "Epoch 122/300\n",
            "27/27 [==============================] - 0s 9ms/step - loss: 0.5859 - accuracy: 0.6651 - val_loss: 0.7809 - val_accuracy: 0.4805\n",
            "Epoch 123/300\n",
            "27/27 [==============================] - 0s 10ms/step - loss: 0.5752 - accuracy: 0.6806 - val_loss: 0.7656 - val_accuracy: 0.4707\n",
            "Epoch 124/300\n",
            "27/27 [==============================] - 0s 10ms/step - loss: 0.5680 - accuracy: 0.6841 - val_loss: 0.7624 - val_accuracy: 0.4805\n",
            "Epoch 125/300\n",
            "27/27 [==============================] - 0s 9ms/step - loss: 0.5639 - accuracy: 0.6830 - val_loss: 0.7650 - val_accuracy: 0.4854\n",
            "Epoch 126/300\n",
            "27/27 [==============================] - 0s 9ms/step - loss: 0.5691 - accuracy: 0.6818 - val_loss: 0.7694 - val_accuracy: 0.4927\n",
            "Epoch 127/300\n",
            "27/27 [==============================] - 0s 9ms/step - loss: 0.5674 - accuracy: 0.6913 - val_loss: 0.7664 - val_accuracy: 0.4927\n",
            "Epoch 128/300\n",
            "27/27 [==============================] - 0s 10ms/step - loss: 0.5580 - accuracy: 0.6830 - val_loss: 0.7825 - val_accuracy: 0.4854\n",
            "Epoch 129/300\n",
            "27/27 [==============================] - 0s 10ms/step - loss: 0.5522 - accuracy: 0.6841 - val_loss: 0.7678 - val_accuracy: 0.5000\n",
            "Epoch 130/300\n",
            "27/27 [==============================] - 0s 9ms/step - loss: 0.5502 - accuracy: 0.6925 - val_loss: 0.7907 - val_accuracy: 0.4829\n",
            "Epoch 131/300\n",
            "27/27 [==============================] - 0s 10ms/step - loss: 0.5531 - accuracy: 0.6973 - val_loss: 0.7819 - val_accuracy: 0.4951\n",
            "Epoch 132/300\n",
            "27/27 [==============================] - 0s 10ms/step - loss: 0.5501 - accuracy: 0.6925 - val_loss: 0.7846 - val_accuracy: 0.5024\n",
            "Epoch 133/300\n",
            "27/27 [==============================] - 0s 10ms/step - loss: 0.5453 - accuracy: 0.6949 - val_loss: 0.7753 - val_accuracy: 0.5195\n",
            "Epoch 134/300\n",
            "27/27 [==============================] - 0s 10ms/step - loss: 0.5526 - accuracy: 0.6973 - val_loss: 0.7936 - val_accuracy: 0.4927\n",
            "Epoch 135/300\n",
            "27/27 [==============================] - 0s 9ms/step - loss: 0.5544 - accuracy: 0.6937 - val_loss: 0.7983 - val_accuracy: 0.4951\n",
            "Epoch 136/300\n",
            "27/27 [==============================] - 0s 9ms/step - loss: 0.5462 - accuracy: 0.6877 - val_loss: 0.7839 - val_accuracy: 0.4854\n",
            "Epoch 137/300\n",
            "27/27 [==============================] - 0s 9ms/step - loss: 0.5534 - accuracy: 0.6925 - val_loss: 0.7882 - val_accuracy: 0.4902\n",
            "Epoch 138/300\n",
            "27/27 [==============================] - 0s 9ms/step - loss: 0.5463 - accuracy: 0.7044 - val_loss: 0.8120 - val_accuracy: 0.4902\n",
            "Epoch 139/300\n",
            "27/27 [==============================] - 0s 10ms/step - loss: 0.5361 - accuracy: 0.7068 - val_loss: 0.8001 - val_accuracy: 0.4854\n",
            "Epoch 140/300\n",
            "27/27 [==============================] - 0s 10ms/step - loss: 0.5329 - accuracy: 0.7032 - val_loss: 0.8071 - val_accuracy: 0.5024\n",
            "Epoch 141/300\n",
            "27/27 [==============================] - 0s 10ms/step - loss: 0.5461 - accuracy: 0.6985 - val_loss: 0.8013 - val_accuracy: 0.5098\n",
            "Epoch 142/300\n",
            "27/27 [==============================] - 0s 9ms/step - loss: 0.5277 - accuracy: 0.7211 - val_loss: 0.7999 - val_accuracy: 0.5049\n",
            "Epoch 143/300\n",
            "27/27 [==============================] - 0s 9ms/step - loss: 0.5246 - accuracy: 0.7199 - val_loss: 0.8124 - val_accuracy: 0.4902\n",
            "Epoch 144/300\n",
            "27/27 [==============================] - 0s 10ms/step - loss: 0.5203 - accuracy: 0.7223 - val_loss: 0.8158 - val_accuracy: 0.4976\n",
            "Epoch 145/300\n",
            "27/27 [==============================] - 0s 9ms/step - loss: 0.5152 - accuracy: 0.7235 - val_loss: 0.8041 - val_accuracy: 0.4976\n",
            "Epoch 146/300\n",
            "27/27 [==============================] - 0s 9ms/step - loss: 0.5202 - accuracy: 0.7163 - val_loss: 0.8075 - val_accuracy: 0.5049\n",
            "Epoch 147/300\n",
            "27/27 [==============================] - 0s 10ms/step - loss: 0.5138 - accuracy: 0.7163 - val_loss: 0.8268 - val_accuracy: 0.4878\n",
            "Epoch 148/300\n",
            "27/27 [==============================] - 0s 10ms/step - loss: 0.5150 - accuracy: 0.7187 - val_loss: 0.8165 - val_accuracy: 0.5073\n",
            "Epoch 149/300\n",
            "27/27 [==============================] - 0s 10ms/step - loss: 0.5170 - accuracy: 0.7163 - val_loss: 0.8217 - val_accuracy: 0.4854\n",
            "Epoch 150/300\n",
            "27/27 [==============================] - 0s 9ms/step - loss: 0.5059 - accuracy: 0.7294 - val_loss: 0.8297 - val_accuracy: 0.4927\n",
            "Epoch 151/300\n",
            "27/27 [==============================] - 0s 9ms/step - loss: 0.5022 - accuracy: 0.7306 - val_loss: 0.8222 - val_accuracy: 0.5024\n",
            "Epoch 152/300\n",
            "27/27 [==============================] - 0s 10ms/step - loss: 0.5009 - accuracy: 0.7354 - val_loss: 0.8195 - val_accuracy: 0.5000\n",
            "Epoch 153/300\n",
            "27/27 [==============================] - 0s 10ms/step - loss: 0.4933 - accuracy: 0.7521 - val_loss: 0.8552 - val_accuracy: 0.5024\n",
            "Epoch 154/300\n",
            "27/27 [==============================] - 0s 11ms/step - loss: 0.4943 - accuracy: 0.7390 - val_loss: 0.8332 - val_accuracy: 0.4951\n",
            "Epoch 155/300\n",
            "27/27 [==============================] - 0s 10ms/step - loss: 0.4937 - accuracy: 0.7461 - val_loss: 0.8440 - val_accuracy: 0.5000\n",
            "Epoch 156/300\n",
            "27/27 [==============================] - 0s 10ms/step - loss: 0.4871 - accuracy: 0.7485 - val_loss: 0.8320 - val_accuracy: 0.5171\n",
            "Epoch 157/300\n",
            "27/27 [==============================] - 0s 10ms/step - loss: 0.4841 - accuracy: 0.7437 - val_loss: 0.8658 - val_accuracy: 0.4756\n",
            "Epoch 158/300\n",
            "27/27 [==============================] - 0s 9ms/step - loss: 0.4862 - accuracy: 0.7390 - val_loss: 0.8434 - val_accuracy: 0.5073\n",
            "Epoch 159/300\n",
            "27/27 [==============================] - 0s 9ms/step - loss: 0.4813 - accuracy: 0.7533 - val_loss: 0.8724 - val_accuracy: 0.4902\n",
            "Epoch 160/300\n",
            "27/27 [==============================] - 0s 10ms/step - loss: 0.4793 - accuracy: 0.7640 - val_loss: 0.8394 - val_accuracy: 0.4951\n",
            "Epoch 161/300\n",
            "27/27 [==============================] - 0s 11ms/step - loss: 0.4721 - accuracy: 0.7533 - val_loss: 0.8537 - val_accuracy: 0.4829\n",
            "Epoch 162/300\n",
            "27/27 [==============================] - 0s 9ms/step - loss: 0.4709 - accuracy: 0.7664 - val_loss: 0.8573 - val_accuracy: 0.5000\n",
            "Epoch 163/300\n",
            "27/27 [==============================] - 0s 9ms/step - loss: 0.4721 - accuracy: 0.7461 - val_loss: 0.8547 - val_accuracy: 0.4805\n",
            "Epoch 164/300\n",
            "27/27 [==============================] - 0s 11ms/step - loss: 0.4744 - accuracy: 0.7426 - val_loss: 0.8487 - val_accuracy: 0.5146\n",
            "Epoch 165/300\n",
            "27/27 [==============================] - 0s 9ms/step - loss: 0.4776 - accuracy: 0.7473 - val_loss: 0.8648 - val_accuracy: 0.5073\n",
            "Epoch 166/300\n",
            "27/27 [==============================] - 0s 10ms/step - loss: 0.4599 - accuracy: 0.7723 - val_loss: 0.8659 - val_accuracy: 0.5098\n",
            "Epoch 167/300\n",
            "27/27 [==============================] - 0s 9ms/step - loss: 0.4567 - accuracy: 0.7867 - val_loss: 0.8558 - val_accuracy: 0.5146\n",
            "Epoch 168/300\n",
            "27/27 [==============================] - 0s 9ms/step - loss: 0.4621 - accuracy: 0.7688 - val_loss: 0.8578 - val_accuracy: 0.4951\n",
            "Epoch 169/300\n",
            "27/27 [==============================] - 0s 9ms/step - loss: 0.4545 - accuracy: 0.7652 - val_loss: 0.8783 - val_accuracy: 0.5000\n",
            "Epoch 170/300\n",
            "27/27 [==============================] - 0s 10ms/step - loss: 0.4547 - accuracy: 0.7688 - val_loss: 0.8941 - val_accuracy: 0.4780\n",
            "Epoch 171/300\n",
            "27/27 [==============================] - 0s 10ms/step - loss: 0.4496 - accuracy: 0.7878 - val_loss: 0.9038 - val_accuracy: 0.4805\n",
            "Epoch 172/300\n",
            "27/27 [==============================] - 0s 10ms/step - loss: 0.4466 - accuracy: 0.7771 - val_loss: 0.8885 - val_accuracy: 0.5098\n",
            "Epoch 173/300\n",
            "27/27 [==============================] - 0s 10ms/step - loss: 0.4392 - accuracy: 0.7902 - val_loss: 0.8855 - val_accuracy: 0.5049\n",
            "Epoch 174/300\n",
            "27/27 [==============================] - 0s 9ms/step - loss: 0.4422 - accuracy: 0.7759 - val_loss: 0.8818 - val_accuracy: 0.4976\n",
            "Epoch 175/300\n",
            "27/27 [==============================] - 0s 9ms/step - loss: 0.4467 - accuracy: 0.7664 - val_loss: 0.8782 - val_accuracy: 0.5098\n",
            "Epoch 176/300\n",
            "27/27 [==============================] - 0s 9ms/step - loss: 0.4613 - accuracy: 0.7795 - val_loss: 0.9085 - val_accuracy: 0.5122\n",
            "Epoch 177/300\n",
            "27/27 [==============================] - 0s 9ms/step - loss: 0.4358 - accuracy: 0.7867 - val_loss: 0.9049 - val_accuracy: 0.4780\n",
            "Epoch 178/300\n",
            "27/27 [==============================] - 0s 9ms/step - loss: 0.4359 - accuracy: 0.7867 - val_loss: 0.9225 - val_accuracy: 0.5122\n",
            "Epoch 179/300\n",
            "27/27 [==============================] - 0s 9ms/step - loss: 0.4260 - accuracy: 0.8081 - val_loss: 0.9147 - val_accuracy: 0.5122\n",
            "Epoch 180/300\n",
            "27/27 [==============================] - 0s 9ms/step - loss: 0.4252 - accuracy: 0.8021 - val_loss: 0.8992 - val_accuracy: 0.5195\n",
            "Epoch 181/300\n",
            "27/27 [==============================] - 0s 9ms/step - loss: 0.4216 - accuracy: 0.8033 - val_loss: 0.9372 - val_accuracy: 0.4976\n",
            "Epoch 182/300\n",
            "27/27 [==============================] - 0s 10ms/step - loss: 0.4179 - accuracy: 0.8045 - val_loss: 0.9137 - val_accuracy: 0.5171\n",
            "Epoch 183/300\n",
            "27/27 [==============================] - 0s 10ms/step - loss: 0.4140 - accuracy: 0.7998 - val_loss: 0.8935 - val_accuracy: 0.5244\n",
            "Epoch 184/300\n",
            "27/27 [==============================] - 0s 10ms/step - loss: 0.4094 - accuracy: 0.8105 - val_loss: 0.9234 - val_accuracy: 0.5049\n",
            "Epoch 185/300\n",
            "27/27 [==============================] - 0s 9ms/step - loss: 0.4062 - accuracy: 0.8153 - val_loss: 0.9184 - val_accuracy: 0.5220\n",
            "Epoch 186/300\n",
            "27/27 [==============================] - 0s 10ms/step - loss: 0.4048 - accuracy: 0.8141 - val_loss: 0.9386 - val_accuracy: 0.5024\n",
            "Epoch 187/300\n",
            "27/27 [==============================] - 0s 9ms/step - loss: 0.4030 - accuracy: 0.8081 - val_loss: 0.9368 - val_accuracy: 0.5146\n",
            "Epoch 188/300\n",
            "27/27 [==============================] - 0s 10ms/step - loss: 0.4080 - accuracy: 0.7986 - val_loss: 0.9393 - val_accuracy: 0.5049\n",
            "Epoch 189/300\n",
            "27/27 [==============================] - 0s 10ms/step - loss: 0.4079 - accuracy: 0.8153 - val_loss: 0.9521 - val_accuracy: 0.5146\n",
            "Epoch 190/300\n",
            "27/27 [==============================] - 0s 10ms/step - loss: 0.4001 - accuracy: 0.8212 - val_loss: 0.9336 - val_accuracy: 0.5146\n",
            "Epoch 191/300\n",
            "27/27 [==============================] - 0s 9ms/step - loss: 0.3942 - accuracy: 0.8224 - val_loss: 0.9437 - val_accuracy: 0.5098\n",
            "Epoch 192/300\n",
            "27/27 [==============================] - 0s 10ms/step - loss: 0.3896 - accuracy: 0.8224 - val_loss: 0.9410 - val_accuracy: 0.5146\n",
            "Epoch 193/300\n",
            "27/27 [==============================] - 0s 10ms/step - loss: 0.3904 - accuracy: 0.8224 - val_loss: 0.9526 - val_accuracy: 0.5146\n",
            "Epoch 194/300\n",
            "27/27 [==============================] - 0s 11ms/step - loss: 0.4008 - accuracy: 0.8093 - val_loss: 0.9393 - val_accuracy: 0.5171\n",
            "Epoch 195/300\n",
            "27/27 [==============================] - 0s 10ms/step - loss: 0.3906 - accuracy: 0.8212 - val_loss: 0.9543 - val_accuracy: 0.5171\n",
            "Epoch 196/300\n",
            "27/27 [==============================] - 0s 9ms/step - loss: 0.3789 - accuracy: 0.8236 - val_loss: 0.9536 - val_accuracy: 0.5146\n",
            "Epoch 197/300\n",
            "27/27 [==============================] - 0s 9ms/step - loss: 0.3845 - accuracy: 0.8284 - val_loss: 0.9751 - val_accuracy: 0.5171\n",
            "Epoch 198/300\n",
            "27/27 [==============================] - 0s 10ms/step - loss: 0.3782 - accuracy: 0.8200 - val_loss: 0.9706 - val_accuracy: 0.5024\n",
            "Epoch 199/300\n",
            "27/27 [==============================] - 0s 9ms/step - loss: 0.3820 - accuracy: 0.8284 - val_loss: 0.9661 - val_accuracy: 0.5268\n",
            "Epoch 200/300\n",
            "27/27 [==============================] - 0s 9ms/step - loss: 0.3693 - accuracy: 0.8331 - val_loss: 0.9841 - val_accuracy: 0.5244\n",
            "Epoch 201/300\n",
            "27/27 [==============================] - 0s 9ms/step - loss: 0.3659 - accuracy: 0.8367 - val_loss: 0.9651 - val_accuracy: 0.5293\n",
            "Epoch 202/300\n",
            "27/27 [==============================] - 0s 9ms/step - loss: 0.3579 - accuracy: 0.8474 - val_loss: 0.9810 - val_accuracy: 0.5220\n",
            "Epoch 203/300\n",
            "27/27 [==============================] - 0s 9ms/step - loss: 0.3584 - accuracy: 0.8462 - val_loss: 0.9858 - val_accuracy: 0.5244\n",
            "Epoch 204/300\n",
            "27/27 [==============================] - 0s 9ms/step - loss: 0.3604 - accuracy: 0.8343 - val_loss: 0.9823 - val_accuracy: 0.5122\n",
            "Epoch 205/300\n",
            "27/27 [==============================] - 0s 9ms/step - loss: 0.3497 - accuracy: 0.8415 - val_loss: 1.0041 - val_accuracy: 0.5220\n",
            "Epoch 206/300\n",
            "27/27 [==============================] - 0s 9ms/step - loss: 0.3643 - accuracy: 0.8367 - val_loss: 0.9906 - val_accuracy: 0.5195\n",
            "Epoch 207/300\n",
            "27/27 [==============================] - 0s 9ms/step - loss: 0.3523 - accuracy: 0.8367 - val_loss: 1.0170 - val_accuracy: 0.5098\n",
            "Epoch 208/300\n",
            "27/27 [==============================] - 0s 9ms/step - loss: 0.3440 - accuracy: 0.8474 - val_loss: 0.9904 - val_accuracy: 0.5244\n",
            "Epoch 209/300\n",
            "27/27 [==============================] - 0s 11ms/step - loss: 0.3446 - accuracy: 0.8486 - val_loss: 1.0435 - val_accuracy: 0.5122\n",
            "Epoch 210/300\n",
            "27/27 [==============================] - 0s 10ms/step - loss: 0.3520 - accuracy: 0.8534 - val_loss: 1.0156 - val_accuracy: 0.5073\n",
            "Epoch 211/300\n",
            "27/27 [==============================] - 0s 9ms/step - loss: 0.3348 - accuracy: 0.8462 - val_loss: 1.0303 - val_accuracy: 0.5098\n",
            "Epoch 212/300\n",
            "27/27 [==============================] - 0s 9ms/step - loss: 0.3315 - accuracy: 0.8570 - val_loss: 1.0300 - val_accuracy: 0.5122\n",
            "Epoch 213/300\n",
            "27/27 [==============================] - 0s 9ms/step - loss: 0.3265 - accuracy: 0.8617 - val_loss: 1.0314 - val_accuracy: 0.5146\n",
            "Epoch 214/300\n",
            "27/27 [==============================] - 0s 10ms/step - loss: 0.3293 - accuracy: 0.8510 - val_loss: 1.0213 - val_accuracy: 0.5146\n",
            "Epoch 215/300\n",
            "27/27 [==============================] - 0s 9ms/step - loss: 0.3202 - accuracy: 0.8725 - val_loss: 1.0516 - val_accuracy: 0.5024\n",
            "Epoch 216/300\n",
            "27/27 [==============================] - 0s 10ms/step - loss: 0.3274 - accuracy: 0.8558 - val_loss: 1.0473 - val_accuracy: 0.5049\n",
            "Epoch 217/300\n",
            "27/27 [==============================] - 0s 9ms/step - loss: 0.3218 - accuracy: 0.8653 - val_loss: 1.0148 - val_accuracy: 0.5220\n",
            "Epoch 218/300\n",
            "27/27 [==============================] - 0s 10ms/step - loss: 0.3197 - accuracy: 0.8605 - val_loss: 1.0271 - val_accuracy: 0.5098\n",
            "Epoch 219/300\n",
            "27/27 [==============================] - 0s 10ms/step - loss: 0.3162 - accuracy: 0.8749 - val_loss: 1.0332 - val_accuracy: 0.5171\n",
            "Epoch 220/300\n",
            "27/27 [==============================] - 0s 10ms/step - loss: 0.3219 - accuracy: 0.8582 - val_loss: 1.0799 - val_accuracy: 0.5122\n",
            "Epoch 221/300\n",
            "27/27 [==============================] - 0s 11ms/step - loss: 0.3205 - accuracy: 0.8701 - val_loss: 1.0650 - val_accuracy: 0.4951\n",
            "Epoch 222/300\n",
            "27/27 [==============================] - 0s 9ms/step - loss: 0.3107 - accuracy: 0.8725 - val_loss: 1.0165 - val_accuracy: 0.5268\n",
            "Epoch 223/300\n",
            "27/27 [==============================] - 0s 10ms/step - loss: 0.3049 - accuracy: 0.8713 - val_loss: 1.0430 - val_accuracy: 0.5220\n",
            "Epoch 224/300\n",
            "27/27 [==============================] - 0s 9ms/step - loss: 0.3087 - accuracy: 0.8784 - val_loss: 1.0755 - val_accuracy: 0.5171\n",
            "Epoch 225/300\n",
            "27/27 [==============================] - 0s 10ms/step - loss: 0.3060 - accuracy: 0.8617 - val_loss: 1.0661 - val_accuracy: 0.5195\n",
            "Epoch 226/300\n",
            "27/27 [==============================] - 0s 9ms/step - loss: 0.2983 - accuracy: 0.8725 - val_loss: 1.1047 - val_accuracy: 0.5098\n",
            "Epoch 227/300\n",
            "27/27 [==============================] - 0s 9ms/step - loss: 0.3007 - accuracy: 0.8713 - val_loss: 1.0727 - val_accuracy: 0.5049\n",
            "Epoch 228/300\n",
            "27/27 [==============================] - 0s 10ms/step - loss: 0.3136 - accuracy: 0.8677 - val_loss: 1.0840 - val_accuracy: 0.5024\n",
            "Epoch 229/300\n",
            "27/27 [==============================] - 0s 11ms/step - loss: 0.2953 - accuracy: 0.8665 - val_loss: 1.0711 - val_accuracy: 0.4927\n",
            "Epoch 230/300\n",
            "27/27 [==============================] - 0s 9ms/step - loss: 0.2875 - accuracy: 0.8772 - val_loss: 1.0818 - val_accuracy: 0.5293\n",
            "Epoch 231/300\n",
            "27/27 [==============================] - 0s 9ms/step - loss: 0.2930 - accuracy: 0.8844 - val_loss: 1.0927 - val_accuracy: 0.4927\n",
            "Epoch 232/300\n",
            "27/27 [==============================] - 0s 10ms/step - loss: 0.2922 - accuracy: 0.8737 - val_loss: 1.0974 - val_accuracy: 0.5195\n",
            "Epoch 233/300\n",
            "27/27 [==============================] - 0s 9ms/step - loss: 0.2813 - accuracy: 0.8856 - val_loss: 1.0811 - val_accuracy: 0.5024\n",
            "Epoch 234/300\n",
            "27/27 [==============================] - 0s 10ms/step - loss: 0.2798 - accuracy: 0.8856 - val_loss: 1.1262 - val_accuracy: 0.5024\n",
            "Epoch 235/300\n",
            "27/27 [==============================] - 0s 9ms/step - loss: 0.2750 - accuracy: 0.8832 - val_loss: 1.1169 - val_accuracy: 0.4976\n",
            "Epoch 236/300\n",
            "27/27 [==============================] - 0s 10ms/step - loss: 0.2792 - accuracy: 0.8844 - val_loss: 1.1047 - val_accuracy: 0.4976\n",
            "Epoch 237/300\n",
            "27/27 [==============================] - 0s 11ms/step - loss: 0.2746 - accuracy: 0.8820 - val_loss: 1.1425 - val_accuracy: 0.5024\n",
            "Epoch 238/300\n",
            "27/27 [==============================] - 0s 10ms/step - loss: 0.2684 - accuracy: 0.8856 - val_loss: 1.1121 - val_accuracy: 0.5171\n",
            "Epoch 239/300\n",
            "27/27 [==============================] - 0s 9ms/step - loss: 0.2702 - accuracy: 0.8820 - val_loss: 1.1292 - val_accuracy: 0.5073\n",
            "Epoch 240/300\n",
            "27/27 [==============================] - 0s 11ms/step - loss: 0.2636 - accuracy: 0.8975 - val_loss: 1.1260 - val_accuracy: 0.5122\n",
            "Epoch 241/300\n",
            "27/27 [==============================] - 0s 11ms/step - loss: 0.2845 - accuracy: 0.8796 - val_loss: 1.1554 - val_accuracy: 0.5073\n",
            "Epoch 242/300\n",
            "27/27 [==============================] - 0s 10ms/step - loss: 0.2777 - accuracy: 0.8868 - val_loss: 1.1019 - val_accuracy: 0.5122\n",
            "Epoch 243/300\n",
            "27/27 [==============================] - 0s 9ms/step - loss: 0.2609 - accuracy: 0.8856 - val_loss: 1.1376 - val_accuracy: 0.5073\n",
            "Epoch 244/300\n",
            "27/27 [==============================] - 0s 9ms/step - loss: 0.2655 - accuracy: 0.8832 - val_loss: 1.1707 - val_accuracy: 0.4927\n",
            "Epoch 245/300\n",
            "27/27 [==============================] - 0s 10ms/step - loss: 0.2536 - accuracy: 0.8975 - val_loss: 1.1405 - val_accuracy: 0.5146\n",
            "Epoch 246/300\n",
            "27/27 [==============================] - 0s 9ms/step - loss: 0.2514 - accuracy: 0.8987 - val_loss: 1.2020 - val_accuracy: 0.4951\n",
            "Epoch 247/300\n",
            "27/27 [==============================] - 0s 10ms/step - loss: 0.2554 - accuracy: 0.8987 - val_loss: 1.1555 - val_accuracy: 0.5122\n",
            "Epoch 248/300\n",
            "27/27 [==============================] - 0s 9ms/step - loss: 0.2443 - accuracy: 0.8963 - val_loss: 1.1744 - val_accuracy: 0.5122\n",
            "Epoch 249/300\n",
            "27/27 [==============================] - 0s 10ms/step - loss: 0.2419 - accuracy: 0.9035 - val_loss: 1.1936 - val_accuracy: 0.5073\n",
            "Epoch 250/300\n",
            "27/27 [==============================] - 0s 10ms/step - loss: 0.2395 - accuracy: 0.8987 - val_loss: 1.2039 - val_accuracy: 0.4878\n",
            "Epoch 251/300\n",
            "27/27 [==============================] - 0s 10ms/step - loss: 0.2432 - accuracy: 0.8999 - val_loss: 1.1658 - val_accuracy: 0.5220\n",
            "Epoch 252/300\n",
            "27/27 [==============================] - 0s 10ms/step - loss: 0.2455 - accuracy: 0.8903 - val_loss: 1.1859 - val_accuracy: 0.4854\n",
            "Epoch 253/300\n",
            "27/27 [==============================] - 0s 9ms/step - loss: 0.2399 - accuracy: 0.8951 - val_loss: 1.1991 - val_accuracy: 0.5171\n",
            "Epoch 254/300\n",
            "27/27 [==============================] - 0s 10ms/step - loss: 0.2379 - accuracy: 0.9035 - val_loss: 1.1992 - val_accuracy: 0.5146\n",
            "Epoch 255/300\n",
            "27/27 [==============================] - 0s 10ms/step - loss: 0.2598 - accuracy: 0.8880 - val_loss: 1.2591 - val_accuracy: 0.4902\n",
            "Epoch 256/300\n",
            "27/27 [==============================] - 0s 10ms/step - loss: 0.2475 - accuracy: 0.8999 - val_loss: 1.1978 - val_accuracy: 0.5073\n",
            "Epoch 257/300\n",
            "27/27 [==============================] - 0s 10ms/step - loss: 0.2426 - accuracy: 0.9011 - val_loss: 1.2661 - val_accuracy: 0.4976\n",
            "Epoch 258/300\n",
            "27/27 [==============================] - 0s 10ms/step - loss: 0.2364 - accuracy: 0.9035 - val_loss: 1.2540 - val_accuracy: 0.4902\n",
            "Epoch 259/300\n",
            "27/27 [==============================] - 0s 11ms/step - loss: 0.2310 - accuracy: 0.9094 - val_loss: 1.2199 - val_accuracy: 0.5073\n",
            "Epoch 260/300\n",
            "27/27 [==============================] - 0s 10ms/step - loss: 0.2292 - accuracy: 0.9070 - val_loss: 1.2680 - val_accuracy: 0.4878\n",
            "Epoch 261/300\n",
            "27/27 [==============================] - 0s 9ms/step - loss: 0.2286 - accuracy: 0.9070 - val_loss: 1.2081 - val_accuracy: 0.4976\n",
            "Epoch 262/300\n",
            "27/27 [==============================] - 0s 10ms/step - loss: 0.2236 - accuracy: 0.9106 - val_loss: 1.2377 - val_accuracy: 0.5146\n",
            "Epoch 263/300\n",
            "27/27 [==============================] - 0s 10ms/step - loss: 0.2150 - accuracy: 0.9190 - val_loss: 1.2283 - val_accuracy: 0.5171\n",
            "Epoch 264/300\n",
            "27/27 [==============================] - 0s 9ms/step - loss: 0.2173 - accuracy: 0.9178 - val_loss: 1.2439 - val_accuracy: 0.5073\n",
            "Epoch 265/300\n",
            "27/27 [==============================] - 0s 10ms/step - loss: 0.2124 - accuracy: 0.9190 - val_loss: 1.2442 - val_accuracy: 0.5073\n",
            "Epoch 266/300\n",
            "27/27 [==============================] - 0s 11ms/step - loss: 0.2204 - accuracy: 0.9118 - val_loss: 1.2610 - val_accuracy: 0.5244\n",
            "Epoch 267/300\n",
            "27/27 [==============================] - 0s 11ms/step - loss: 0.2124 - accuracy: 0.9166 - val_loss: 1.2610 - val_accuracy: 0.5146\n",
            "Epoch 268/300\n",
            "27/27 [==============================] - 0s 10ms/step - loss: 0.2139 - accuracy: 0.9118 - val_loss: 1.2842 - val_accuracy: 0.4976\n",
            "Epoch 269/300\n",
            "27/27 [==============================] - 0s 10ms/step - loss: 0.2172 - accuracy: 0.9118 - val_loss: 1.2200 - val_accuracy: 0.5317\n",
            "Epoch 270/300\n",
            "27/27 [==============================] - 0s 10ms/step - loss: 0.2059 - accuracy: 0.9237 - val_loss: 1.2978 - val_accuracy: 0.5000\n",
            "Epoch 271/300\n",
            "27/27 [==============================] - 0s 9ms/step - loss: 0.2039 - accuracy: 0.9201 - val_loss: 1.2925 - val_accuracy: 0.5146\n",
            "Epoch 272/300\n",
            "27/27 [==============================] - 0s 10ms/step - loss: 0.2048 - accuracy: 0.9154 - val_loss: 1.2686 - val_accuracy: 0.5341\n",
            "Epoch 273/300\n",
            "27/27 [==============================] - 0s 9ms/step - loss: 0.2058 - accuracy: 0.9213 - val_loss: 1.2317 - val_accuracy: 0.5073\n",
            "Epoch 274/300\n",
            "27/27 [==============================] - 0s 9ms/step - loss: 0.2041 - accuracy: 0.9118 - val_loss: 1.2971 - val_accuracy: 0.5146\n",
            "Epoch 275/300\n",
            "27/27 [==============================] - 0s 9ms/step - loss: 0.1948 - accuracy: 0.9273 - val_loss: 1.3208 - val_accuracy: 0.4951\n",
            "Epoch 276/300\n",
            "27/27 [==============================] - 0s 10ms/step - loss: 0.1968 - accuracy: 0.9261 - val_loss: 1.2919 - val_accuracy: 0.5000\n",
            "Epoch 277/300\n",
            "27/27 [==============================] - 0s 10ms/step - loss: 0.1981 - accuracy: 0.9237 - val_loss: 1.3214 - val_accuracy: 0.5024\n",
            "Epoch 278/300\n",
            "27/27 [==============================] - 0s 11ms/step - loss: 0.1956 - accuracy: 0.9213 - val_loss: 1.2815 - val_accuracy: 0.5146\n",
            "Epoch 279/300\n",
            "27/27 [==============================] - 0s 10ms/step - loss: 0.1907 - accuracy: 0.9321 - val_loss: 1.2920 - val_accuracy: 0.5146\n",
            "Epoch 280/300\n",
            "27/27 [==============================] - 0s 10ms/step - loss: 0.1960 - accuracy: 0.9213 - val_loss: 1.3367 - val_accuracy: 0.5049\n",
            "Epoch 281/300\n",
            "27/27 [==============================] - 0s 11ms/step - loss: 0.1947 - accuracy: 0.9178 - val_loss: 1.3246 - val_accuracy: 0.4976\n",
            "Epoch 282/300\n",
            "27/27 [==============================] - 0s 10ms/step - loss: 0.1894 - accuracy: 0.9285 - val_loss: 1.3285 - val_accuracy: 0.5146\n",
            "Epoch 283/300\n",
            "27/27 [==============================] - 0s 10ms/step - loss: 0.1856 - accuracy: 0.9297 - val_loss: 1.3050 - val_accuracy: 0.5049\n",
            "Epoch 284/300\n",
            "27/27 [==============================] - 0s 9ms/step - loss: 0.1856 - accuracy: 0.9309 - val_loss: 1.3529 - val_accuracy: 0.4951\n",
            "Epoch 285/300\n",
            "27/27 [==============================] - 0s 10ms/step - loss: 0.1928 - accuracy: 0.9213 - val_loss: 1.3068 - val_accuracy: 0.5244\n",
            "Epoch 286/300\n",
            "27/27 [==============================] - 0s 11ms/step - loss: 0.1886 - accuracy: 0.9249 - val_loss: 1.3088 - val_accuracy: 0.5049\n",
            "Epoch 287/300\n",
            "27/27 [==============================] - 0s 10ms/step - loss: 0.2071 - accuracy: 0.9213 - val_loss: 1.3573 - val_accuracy: 0.5073\n",
            "Epoch 288/300\n",
            "27/27 [==============================] - 0s 11ms/step - loss: 0.1948 - accuracy: 0.9261 - val_loss: 1.3260 - val_accuracy: 0.4976\n",
            "Epoch 289/300\n",
            "27/27 [==============================] - 0s 11ms/step - loss: 0.1792 - accuracy: 0.9297 - val_loss: 1.3996 - val_accuracy: 0.4902\n",
            "Epoch 290/300\n",
            "27/27 [==============================] - 0s 10ms/step - loss: 0.1754 - accuracy: 0.9321 - val_loss: 1.3866 - val_accuracy: 0.4927\n",
            "Epoch 291/300\n",
            "27/27 [==============================] - 0s 11ms/step - loss: 0.1764 - accuracy: 0.9344 - val_loss: 1.3573 - val_accuracy: 0.4927\n",
            "Epoch 292/300\n",
            "27/27 [==============================] - 0s 11ms/step - loss: 0.1834 - accuracy: 0.9333 - val_loss: 1.4141 - val_accuracy: 0.4976\n",
            "Epoch 293/300\n",
            "27/27 [==============================] - 0s 10ms/step - loss: 0.1739 - accuracy: 0.9344 - val_loss: 1.3868 - val_accuracy: 0.5000\n",
            "Epoch 294/300\n",
            "27/27 [==============================] - 0s 11ms/step - loss: 0.1735 - accuracy: 0.9321 - val_loss: 1.3803 - val_accuracy: 0.5146\n",
            "Epoch 295/300\n",
            "27/27 [==============================] - 0s 10ms/step - loss: 0.1662 - accuracy: 0.9344 - val_loss: 1.3973 - val_accuracy: 0.4756\n",
            "Epoch 296/300\n",
            "27/27 [==============================] - 0s 11ms/step - loss: 0.1694 - accuracy: 0.9333 - val_loss: 1.3890 - val_accuracy: 0.4854\n",
            "Epoch 297/300\n",
            "27/27 [==============================] - 0s 10ms/step - loss: 0.1668 - accuracy: 0.9404 - val_loss: 1.3896 - val_accuracy: 0.4976\n",
            "Epoch 298/300\n",
            "27/27 [==============================] - 0s 10ms/step - loss: 0.1594 - accuracy: 0.9440 - val_loss: 1.3735 - val_accuracy: 0.5073\n",
            "Epoch 299/300\n",
            "27/27 [==============================] - 0s 11ms/step - loss: 0.1695 - accuracy: 0.9297 - val_loss: 1.3967 - val_accuracy: 0.4951\n",
            "Epoch 300/300\n",
            "27/27 [==============================] - 0s 10ms/step - loss: 0.1619 - accuracy: 0.9428 - val_loss: 1.4517 - val_accuracy: 0.4902\n"
          ]
        }
      ]
    },
    {
      "cell_type": "code",
      "metadata": {
        "id": "erq--mqRRgfR",
        "colab": {
          "base_uri": "https://localhost:8080/",
          "height": 265
        },
        "outputId": "9ab69c77-c6ed-47e3-f03e-f7dfe5ff81bb"
      },
      "source": [
        "plt.plot(r.history['loss'], label='loss')\n",
        "plt.plot(r.history['val_loss'], label='val_loss')\n",
        "plt.legend()\n",
        "plt.show()"
      ],
      "execution_count": 34,
      "outputs": [
        {
          "output_type": "display_data",
          "data": {
            "image/png": "[encoded data removed]",
            "text/plain": [
              "<Figure size 432x288 with 1 Axes>"
            ]
          },
          "metadata": {
            "needs_background": "light"
          }
        }
      ]
    },
    {
      "cell_type": "code",
      "metadata": {
        "id": "D9ZzosDMRjBU",
        "colab": {
          "base_uri": "https://localhost:8080/",
          "height": 265
        },
        "outputId": "af545210-d0ae-456d-f941-5b9d6e90232e"
      },
      "source": [
        "plt.plot(r.history['accuracy'], label='accuracy')\n",
        "plt.plot(r.history['val_accuracy'], label='val_accuracy')\n",
        "plt.legend()\n",
        "plt.show()"
      ],
      "execution_count": 35,
      "outputs": [
        {
          "output_type": "display_data",
          "data": {
            "image/png": "[encoded data removed]",
            "text/plain": [
              "<Figure size 432x288 with 1 Axes>"
            ]
          },
          "metadata": {
            "needs_background": "light"
          }
        }
      ]
    },
    {
      "cell_type": "code",
      "metadata": {
        "id": "1HDqmaN-rA0z"
      },
      "source": [
        ""
      ],
      "execution_count": null,
      "outputs": []
    }
  ]
}